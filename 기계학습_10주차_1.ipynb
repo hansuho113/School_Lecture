{
  "nbformat": 4,
  "nbformat_minor": 0,
  "metadata": {
    "colab": {
      "name": "기계학습_10주차_1.ipynb",
      "provenance": [],
      "authorship_tag": "ABX9TyMymrYaXTbBN67jArAy14bj",
      "include_colab_link": true
    },
    "kernelspec": {
      "name": "python3",
      "display_name": "Python 3"
    },
    "language_info": {
      "name": "python"
    },
    "accelerator": "GPU"
  },
  "cells": [
    {
      "cell_type": "markdown",
      "metadata": {
        "id": "view-in-github",
        "colab_type": "text"
      },
      "source": [
        "<a href=\"https://colab.research.google.com/github/hansuho113/Machine_learning/blob/main/%EA%B8%B0%EA%B3%84%ED%95%99%EC%8A%B5_10%EC%A3%BC%EC%B0%A8_1.ipynb\" target=\"_parent\"><img src=\"https://colab.research.google.com/assets/colab-badge.svg\" alt=\"Open In Colab\"/></a>"
      ]
    },
    {
      "cell_type": "code",
      "metadata": {
        "colab": {
          "base_uri": "https://localhost:8080/"
        },
        "id": "aC4BG1KWun9x",
        "outputId": "12ce94a8-6759-48d2-bf1e-9f1925317ba3"
      },
      "source": [
        "from sklearn.linear_model import Perceptron\n",
        "\n",
        "# 훈련 집합 구축\n",
        "X = [[0, 0], [0, 1], [1, 0], [1, 1]]\n",
        "y = [-1, 1, 1, 1]\n",
        "\n",
        "# fitting the perceptron model\n",
        "p = Perceptron()\n",
        "p.fit(X, y)\n",
        "\n",
        "print(f\"학습된 퍼셉트론 모델의 매개변수: {p.coef_, p.intercept_}\")\n",
        "print(f\"훈련집합에 대한 예측: {p.predict(X)}\")\n",
        "print(f\"정확률 예측: {p.score(X, y)*100} %\")"
      ],
      "execution_count": null,
      "outputs": [
        {
          "output_type": "stream",
          "text": [
            "학습된 퍼셉트론 모델의 매개변수: (array([[2., 2.]]), array([-1.]))\n",
            "훈련집합에 대한 예측: [-1  1  1  1]\n",
            "정확률 예측: 100.0 %\n"
          ],
          "name": "stdout"
        }
      ]
    },
    {
      "cell_type": "code",
      "metadata": {
        "colab": {
          "base_uri": "https://localhost:8080/",
          "height": 157
        },
        "id": "tzuQ0dl_v8CL",
        "outputId": "c564aa12-6017-43cf-83c7-32e9004049d6"
      },
      "source": [
        "import matplotlib.pyplot as plt\n",
        "import numpy as np\n",
        "\n",
        "plt.figure(figsize=(2, 2))\n",
        "plt.scatter([x[0] for x in X], [y[1] for y in X])\n",
        "plt.grid()\n",
        "plt.show()"
      ],
      "execution_count": null,
      "outputs": [
        {
          "output_type": "display_data",
          "data": {
            "image/png": "[encoded data removed]",
            "text/plain": [
              "<Figure size 144x144 with 1 Axes>"
            ]
          },
          "metadata": {
            "tags": [],
            "needs_background": "light"
          }
        }
      ]
    },
    {
      "cell_type": "code",
      "metadata": {
        "colab": {
          "base_uri": "https://localhost:8080/"
        },
        "id": "2cf94ezhwStR",
        "outputId": "3f8c196e-680c-453f-c389-0c8c94e603d5"
      },
      "source": [
        "from sklearn import datasets\n",
        "from sklearn.model_selection import train_test_split\n",
        "import numpy as np\n",
        "\n",
        "digit = datasets.load_digits()\n",
        "X_train, X_test, y_train, y_test = train_test_split(digit.data, digit.target, train_size=0.6)\n",
        "\n",
        "p = Perceptron(max_iter=100, eta0=0.001, verbose=0)\n",
        "p.fit(X_train, y_train)\n",
        "\n",
        "res = p.predict(X_test)\n",
        "\n",
        "conf = np.zeros((10, 10))\n",
        "\n",
        "for i in range(len(res)):\n",
        "    conf[res[i]][y_test[i]] += 1\n",
        "print(conf)\n",
        "\n",
        "no_correct = 0\n",
        "for i in range(10):\n",
        "    no_correct += conf[i][i]\n",
        "acc = no_correct / len(res)\n",
        "\n",
        "print(f\"테스트 집합에 대한 정확률: {acc*100}%\")"
      ],
      "execution_count": null,
      "outputs": [
        {
          "output_type": "stream",
          "text": [
            "[[81.  0.  0.  0.  0.  1.  0.  0.  0.  0.]\n",
            " [ 0. 52.  0.  0.  0.  0.  0.  0.  1.  4.]\n",
            " [ 0.  0. 53.  0.  0.  0.  1.  0.  0.  0.]\n",
            " [ 0.  2.  5. 68.  0.  0.  0.  0.  1.  9.]\n",
            " [ 0.  0.  0.  0. 76.  0.  0.  1.  0.  0.]\n",
            " [ 0.  0.  0.  0.  0. 62.  0.  1.  0.  2.]\n",
            " [ 0.  0.  0.  0.  0.  0. 68.  0.  0.  0.]\n",
            " [ 0.  0.  0.  0.  0.  0.  0. 70.  0.  0.]\n",
            " [ 1. 18.  9.  2.  3.  4.  5.  0. 67.  9.]\n",
            " [ 0.  0.  0.  0.  0.  0.  0.  0.  0. 43.]]\n",
            "테스트 집합에 대한 정확률: 89.01251738525731%\n"
          ],
          "name": "stdout"
        }
      ]
    },
    {
      "cell_type": "code",
      "metadata": {
        "colab": {
          "base_uri": "https://localhost:8080/"
        },
        "id": "cVOUXS9rx3QF",
        "outputId": "d857d455-9bb0-44da-fed4-dd849207110a"
      },
      "source": [
        "from sklearn.neural_network import MLPClassifier\n",
        "\n",
        "mlp = MLPClassifier(hidden_layer_sizes=(100),\n",
        "                    learning_rate_init=0.001,\n",
        "                    batch_size=32,\n",
        "                    max_iter=300,\n",
        "                    solver='sgd',\n",
        "                    verbose=False)\n",
        "mlp.fit(X_train, y_train)\n",
        "res = mlp.predict(X_test)\n",
        "\n",
        "conf = np.zeros((10, 10))\n",
        "for i in range(len(res)):\n",
        "    conf[res[i]][y_test[i]] += 1\n",
        "print(res)\n",
        "print(conf)\n",
        "\n",
        "wrong = 0\n",
        "for i in range(10):\n",
        "    wrong += conf[i][i]\n",
        "acc = wrong / len(res)\n",
        "\n",
        "print(f\"테스트 집합에 대한 정확률: {acc*100}%\")"
      ],
      "execution_count": null,
      "outputs": [
        {
          "output_type": "stream",
          "text": [
            "[2 6 8 5 8 8 2 9 8 6 5 9 9 0 0 2 6 0 1 4 9 2 9 5 3 6 1 4 2 1 9 8 2 6 8 0 5\n",
            " 8 5 7 3 4 9 2 4 7 8 7 4 4 4 7 9 5 5 4 7 7 9 0 7 7 7 2 7 4 2 8 4 4 8 7 0 0\n",
            " 8 0 0 9 9 7 0 8 3 8 7 2 9 5 5 4 3 9 3 8 5 2 7 4 5 1 8 6 2 1 4 6 3 9 2 3 2\n",
            " 0 2 3 6 6 6 3 2 0 8 3 4 6 8 6 2 7 2 5 4 7 9 0 3 6 8 1 9 8 1 1 7 7 0 5 0 9\n",
            " 9 5 2 5 7 3 6 5 8 4 5 9 9 1 6 0 8 3 9 6 2 3 0 9 4 6 7 7 7 6 9 3 6 3 4 6 5\n",
            " 0 2 6 2 7 8 6 2 4 4 8 5 3 1 6 0 9 4 4 4 8 9 7 2 6 6 3 8 6 1 2 5 0 8 0 2 4\n",
            " 3 0 4 1 8 0 9 1 4 3 4 4 4 9 6 5 8 1 9 3 8 5 3 6 7 2 1 1 0 1 6 9 2 1 1 0 2\n",
            " 3 5 9 5 6 3 4 4 0 7 1 3 5 9 9 0 0 2 0 3 9 6 3 8 0 3 3 7 9 6 0 6 5 4 1 8 1\n",
            " 1 3 0 9 0 1 1 8 3 5 1 4 3 3 3 2 2 0 6 9 4 5 5 2 0 1 2 9 3 7 3 9 6 0 0 1 9\n",
            " 0 7 2 0 1 4 4 0 2 4 6 7 3 7 8 9 7 8 6 0 5 9 6 1 7 2 9 5 6 1 5 3 0 3 9 6 8\n",
            " 1 6 9 5 5 7 6 3 8 4 8 7 7 0 9 8 8 7 6 3 0 1 7 1 7 1 1 8 4 3 2 8 4 9 1 6 3\n",
            " 6 6 2 6 1 7 6 4 8 0 0 7 4 7 4 8 8 4 2 7 7 2 7 2 3 5 8 0 9 9 2 1 7 9 0 9 8\n",
            " 9 4 1 1 6 0 7 2 2 3 1 0 4 2 0 1 2 6 7 8 0 2 0 4 8 1 1 8 2 6 4 6 6 4 9 1 4\n",
            " 6 3 5 7 0 0 9 4 5 7 5 4 6 0 1 7 2 3 4 9 5 6 0 5 4 8 5 1 7 3 0 0 6 0 5 5 5\n",
            " 0 4 4 5 2 1 3 6 1 5 5 4 8 5 1 4 7 9 6 4 7 7 3 5 1 5 8 8 9 3 9 2 9 8 2 9 8\n",
            " 7 4 9 1 0 9 5 6 5 6 6 0 3 7 9 3 6 1 0 5 4 7 7 9 4 3 8 4 4 5 2 3 1 2 1 2 0\n",
            " 2 1 1 3 3 1 7 0 2 0 7 1 7 8 8 1 6 1 1 3 5 5 0 7 0 6 1 3 5 6 9 0 4 6 0 8 1\n",
            " 9 4 0 6 2 7 2 0 2 5 2 4 8 0 7 0 2 4 3 8 0 8 4 4 5 4 9 5 0 6 3 1 0 1 7 7 3\n",
            " 3 7 4 7 2 3 1 2 4 2 3 9 8 8 7 0 8 8 5 3 6 3 1 3 1 2 4 5 5 1 8 0 4 9 0 1 6\n",
            " 4 9 8 7 8 4 5 6 9 0 7 7 6 1 7 7]\n",
            "[[82.  0.  0.  0.  0.  0.  0.  0.  0.  0.]\n",
            " [ 0. 69.  1.  0.  1.  1.  1.  0.  0.  0.]\n",
            " [ 0.  0. 66.  1.  0.  0.  0.  0.  0.  0.]\n",
            " [ 0.  1.  0. 67.  0.  0.  0.  0.  0.  0.]\n",
            " [ 0.  0.  0.  0. 77.  0.  0.  0.  1.  0.]\n",
            " [ 0.  0.  0.  1.  0. 61.  0.  0.  1.  1.]\n",
            " [ 0.  0.  0.  0.  0.  0. 73.  0.  0.  0.]\n",
            " [ 0.  1.  0.  1.  0.  1.  0. 72.  0.  0.]\n",
            " [ 0.  1.  0.  0.  1.  1.  0.  0. 66.  0.]\n",
            " [ 0.  0.  0.  0.  0.  3.  0.  0.  1. 66.]]\n",
            "테스트 집합에 대한 정확률: 97.2183588317107%\n"
          ],
          "name": "stdout"
        }
      ]
    },
    {
      "cell_type": "code",
      "metadata": {
        "colab": {
          "base_uri": "https://localhost:8080/"
        },
        "id": "j03HKSzAze4-",
        "outputId": "2e1ca133-cdc2-4ce2-bb10-15760a48d5de"
      },
      "source": [
        "from sklearn.datasets import fetch_openml\n",
        "\n",
        "# mnist = fetch_openml('mnist_784')\n",
        "mnist.data = mnist.data/255.0 # [0, 255] -> [0, 1]\n",
        "X_train = mnist.data[:60000]\n",
        "X_test = mnist.data[60000:]\n",
        "y_train = np.int16(mnist.target[:60000])\n",
        "y_test = np.int16(mnist.target[60000:])\n",
        "\n",
        "mlp = MLPClassifier(hidden_layer_sizes=(100),\n",
        "                    learning_rate_init=0.001,\n",
        "                    batch_size=512,\n",
        "                    max_iter=300,\n",
        "                    solver='adam',\n",
        "                    verbose=True)\n",
        "mlp.fit(X_train, y_train)\n",
        "\n",
        "res = mlp.predict(X_test)\n",
        "\n",
        "conf = np.zeros((10, 10))\n",
        "for i in range(len(res)):\n",
        "    conf[res[i]][y_test[i]] += 1\n",
        "print(conf)\n",
        "wrong = 0\n",
        "for i in range(10):\n",
        "    wrong += conf[i][i]\n",
        "acc = wrong / len(res)\n",
        "\n",
        "print(f\"테스트 집합에 대한 정확률: {acc*100} %\")"
      ],
      "execution_count": null,
      "outputs": [
        {
          "output_type": "stream",
          "text": [
            "Iteration 1, loss = 2.30331299\n",
            "Iteration 2, loss = 2.30121981\n",
            "Iteration 3, loss = 2.30113123\n",
            "Iteration 4, loss = 2.30107356\n",
            "Iteration 5, loss = 2.30101944\n",
            "Iteration 6, loss = 2.30090360\n",
            "Iteration 7, loss = 2.30087825\n",
            "Iteration 8, loss = 2.30082570\n",
            "Iteration 9, loss = 2.30071873\n",
            "Iteration 10, loss = 2.30060307\n",
            "Iteration 11, loss = 2.30052068\n",
            "Iteration 12, loss = 2.30046097\n",
            "Iteration 13, loss = 2.30031870\n",
            "Iteration 14, loss = 2.30019626\n",
            "Iteration 15, loss = 2.29995212\n",
            "Iteration 16, loss = 2.29972903\n",
            "Iteration 17, loss = 2.29955428\n",
            "Iteration 18, loss = 2.29919385\n",
            "Iteration 19, loss = 2.29888260\n",
            "Iteration 20, loss = 2.29849434\n",
            "Iteration 21, loss = 2.29804429\n",
            "Iteration 22, loss = 2.29761681\n",
            "Iteration 23, loss = 2.29700906\n",
            "Iteration 24, loss = 2.29632467\n",
            "Iteration 25, loss = 2.29565687\n",
            "Iteration 26, loss = 2.29484556\n",
            "[[   0.    0.    0.    0.    0.    0.    0.    0.    0.    0.]\n",
            " [ 980. 1135. 1032. 1010.  982.  892.  958. 1028.  974. 1009.]\n",
            " [   0.    0.    0.    0.    0.    0.    0.    0.    0.    0.]\n",
            " [   0.    0.    0.    0.    0.    0.    0.    0.    0.    0.]\n",
            " [   0.    0.    0.    0.    0.    0.    0.    0.    0.    0.]\n",
            " [   0.    0.    0.    0.    0.    0.    0.    0.    0.    0.]\n",
            " [   0.    0.    0.    0.    0.    0.    0.    0.    0.    0.]\n",
            " [   0.    0.    0.    0.    0.    0.    0.    0.    0.    0.]\n",
            " [   0.    0.    0.    0.    0.    0.    0.    0.    0.    0.]\n",
            " [   0.    0.    0.    0.    0.    0.    0.    0.    0.    0.]]\n",
            "테스트 집합에 대한 정확률: 11.35 %\n"
          ],
          "name": "stdout"
        },
        {
          "output_type": "stream",
          "text": [
            "/usr/local/lib/python3.7/dist-packages/sklearn/neural_network/_multilayer_perceptron.py:573: UserWarning: Training interrupted by user.\n",
            "  warnings.warn(\"Training interrupted by user.\")\n"
          ],
          "name": "stderr"
        }
      ]
    },
    {
      "cell_type": "code",
      "metadata": {
        "colab": {
          "base_uri": "https://localhost:8080/"
        },
        "id": "-eIV4loi1U31",
        "outputId": "85005573-6bf6-4e39-d97e-6ee78ef992d9"
      },
      "source": [
        "mnist = fetch_openml('mnist_784')\n",
        "mnist.data = mnist.data/255.0 # [0,255] 범위를 [0,1] 범위로 변환\n",
        "x_train = mnist.data[:60000]\n",
        "x_test = mnist.data[60000:]\n",
        "y_train = np.int16(mnist.target[:60000])\n",
        "y_test = np.int16(mnist.target[60000:])\n",
        "\n",
        "# MLP 분류기 모델을 학습\n",
        "mlp = MLPClassifier(hidden_layer_sizes = (100), learning_rate_init = 0.001, batch_size = 512, max_iter = 300, solver = 'adam', verbose = True)\n",
        "mlp.fit(x_train, y_train) # digit 데이터로 모델링 (모델 학습)\n",
        "\n",
        "# 테스트 집합으로 예측\n",
        "res = mlp.predict(x_test)  \n",
        "\n",
        "# 혼동 행렬 \n",
        "conf = np.zeros((10,10))\n",
        "\n",
        "for i in range(len(res)):\n",
        "  conf[res[i]][y_test[i]] += 1\n",
        "print(conf)\n",
        "\n",
        "# 정확률 계산\n",
        "no_correct = 0\n",
        "for i in range(10):\n",
        "  no_correct += conf[i][i]\n",
        "accuracy = no_correct/len(res)\n",
        "print('\\n테스트 집합에 대한 정확률은 ', accuracy*100,\"%입니다.\")"
      ],
      "execution_count": null,
      "outputs": [
        {
          "output_type": "stream",
          "text": [
            "Iteration 1, loss = 0.64712557\n",
            "Iteration 2, loss = 0.26321557\n",
            "Iteration 3, loss = 0.20864298\n",
            "Iteration 4, loss = 0.17427927\n",
            "Iteration 5, loss = 0.14945770\n",
            "Iteration 6, loss = 0.13059023\n",
            "Iteration 7, loss = 0.11578002\n",
            "Iteration 8, loss = 0.10452762\n",
            "Iteration 9, loss = 0.09468527\n",
            "Iteration 10, loss = 0.08626504\n",
            "Iteration 11, loss = 0.07787835\n",
            "Iteration 12, loss = 0.07200217\n",
            "Iteration 13, loss = 0.06607073\n",
            "Iteration 14, loss = 0.06149944\n",
            "Iteration 15, loss = 0.05626172\n",
            "Iteration 16, loss = 0.05274248\n",
            "Iteration 17, loss = 0.04851572\n",
            "Iteration 18, loss = 0.04504046\n",
            "Iteration 19, loss = 0.04235467\n",
            "Iteration 20, loss = 0.03912932\n",
            "Iteration 21, loss = 0.03647992\n",
            "Iteration 22, loss = 0.03382810\n",
            "Iteration 23, loss = 0.03116342\n",
            "Iteration 24, loss = 0.02875322\n",
            "Iteration 25, loss = 0.02700011\n",
            "Iteration 26, loss = 0.02513728\n",
            "Iteration 27, loss = 0.02403249\n",
            "Iteration 28, loss = 0.02137968\n",
            "Iteration 29, loss = 0.02004805\n",
            "Iteration 30, loss = 0.01907064\n",
            "Iteration 31, loss = 0.01766682\n",
            "Iteration 32, loss = 0.01606376\n",
            "[[9.670e+02 0.000e+00 4.000e+00 0.000e+00 2.000e+00 2.000e+00 6.000e+00\n",
            "  0.000e+00 5.000e+00 1.000e+00]\n",
            " [0.000e+00 1.124e+03 1.000e+00 0.000e+00 0.000e+00 0.000e+00 2.000e+00\n",
            "  4.000e+00 2.000e+00 3.000e+00]\n",
            " [2.000e+00 3.000e+00 1.009e+03 3.000e+00 2.000e+00 0.000e+00 3.000e+00\n",
            "  1.100e+01 5.000e+00 0.000e+00]\n",
            " [1.000e+00 1.000e+00 2.000e+00 9.900e+02 0.000e+00 1.300e+01 1.000e+00\n",
            "  1.000e+00 5.000e+00 3.000e+00]\n",
            " [1.000e+00 0.000e+00 2.000e+00 1.000e+00 9.550e+02 1.000e+00 3.000e+00\n",
            "  0.000e+00 3.000e+00 5.000e+00]\n",
            " [1.000e+00 1.000e+00 0.000e+00 4.000e+00 0.000e+00 8.670e+02 6.000e+00\n",
            "  0.000e+00 5.000e+00 2.000e+00]\n",
            " [2.000e+00 2.000e+00 3.000e+00 0.000e+00 5.000e+00 3.000e+00 9.340e+02\n",
            "  0.000e+00 2.000e+00 0.000e+00]\n",
            " [2.000e+00 1.000e+00 5.000e+00 4.000e+00 2.000e+00 1.000e+00 1.000e+00\n",
            "  1.003e+03 5.000e+00 9.000e+00]\n",
            " [2.000e+00 3.000e+00 5.000e+00 4.000e+00 1.000e+00 4.000e+00 2.000e+00\n",
            "  1.000e+00 9.360e+02 3.000e+00]\n",
            " [2.000e+00 0.000e+00 1.000e+00 4.000e+00 1.500e+01 1.000e+00 0.000e+00\n",
            "  8.000e+00 6.000e+00 9.830e+02]]\n",
            "\n",
            "테스트 집합에 대한 정확률은  97.68 %입니다.\n"
          ],
          "name": "stdout"
        },
        {
          "output_type": "stream",
          "text": [
            "/usr/local/lib/python3.7/dist-packages/sklearn/neural_network/_multilayer_perceptron.py:573: UserWarning: Training interrupted by user.\n",
            "  warnings.warn(\"Training interrupted by user.\")\n"
          ],
          "name": "stderr"
        }
      ]
    },
    {
      "cell_type": "code",
      "metadata": {
        "id": "VezTmTRP3s3-"
      },
      "source": [
        ""
      ],
      "execution_count": null,
      "outputs": []
    }
  ]
}