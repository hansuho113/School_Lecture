{
 "cells": [
  {
   "cell_type": "markdown",
   "metadata": {},
   "source": [
    "### 일반화(generalization) : 모델이 처음 보는 데이터에 대해 정확하게 예측할 수 있으면 이를 훈련 세트에서 테스트 세트로 일반화 되었다고 함\n",
    " #### 주의 : 아주 복잡한 모델을 만든다면 훈련 세트에만 정확한 모델이 되어버릴 수 있음\n",
    " \n",
    "### 과대적합(overfitting) : 가진 정보를 모두 사용해서 너무 복잡한 모델을 만드는 것\n",
    "- 모델이 훈련 세트의 각 샘플에 너무 가깝게 맞춰져서 새로운 데이터에 일반화되기 어려울 때 일어남\n",
    "\n",
    "### 과소적합(underfitting) : 너무 간단한 모델이 선택되는 것\n",
    "\n",
    "모델을 복잡하게 할수록 훈련 데이터에 대해서는 더 정확히 예측할 수 있으나 너무 복잡해지면 훈련 세트의 각 데이터 포인트에 너무 민감해져 새로운 데이터에 잘 일반화되지 못한다.\n",
    "\n",
    "우리가 찾으려는 모델은 일반화 성능이 최대가 되는 최적점에 있는 모델\n"
   ]
  },
  {
   "cell_type": "code",
   "execution_count": null,
   "metadata": {},
   "outputs": [],
   "source": []
  }
 ],
 "metadata": {
  "kernelspec": {
   "display_name": "Python 3",
   "language": "python",
   "name": "python3"
  },
  "language_info": {
   "codemirror_mode": {
    "name": "ipython",
    "version": 3
   },
   "file_extension": ".py",
   "mimetype": "text/x-python",
   "name": "python",
   "nbconvert_exporter": "python",
   "pygments_lexer": "ipython3",
   "version": "3.7.0"
  }
 },
 "nbformat": 4,
 "nbformat_minor": 2
}
