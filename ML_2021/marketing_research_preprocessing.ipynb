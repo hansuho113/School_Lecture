{
 "cells": [
  {
   "cell_type": "code",
   "execution_count": 1,
   "metadata": {},
   "outputs": [],
   "source": [
    "import pandas as pd\n",
    "import numpy as np\n",
    "import seaborn as sns\n",
    "import matplotlib.pyplot as plt\n",
    "\n",
    "from sklearn.preprocessing import LabelEncoder\n",
    "\n",
    "pd.set_option('display.max_columns', 500)"
   ]
  },
  {
   "cell_type": "code",
   "execution_count": 2,
   "metadata": {},
   "outputs": [],
   "source": [
    "df = pd.read_csv(\"/Users/hansuho/Desktop/21-1 KNU/학교 수업/마케팅리서치/기말발표/survey_data/폴더블_열이름변경/시트 1-폴더블 아이폰 6조.csv\")\n",
    "df.drop(columns='타임스탬프', inplace=True)\n",
    "df = df.iloc[:, :-1]    # 휴대폰 번호 열 삭제\n",
    "df.drop(index=12, inplace=True)    # 샤오미 홍미노트 행 삭제\n",
    "df.reset_index(inplace=True)\n",
    "df.drop(columns = 'index', inplace=True)"
   ]
  },
  {
   "cell_type": "code",
   "execution_count": 3,
   "metadata": {},
   "outputs": [
    {
     "name": "stdout",
     "output_type": "stream",
     "text": [
      "['7 (매우 그렇다.)' '4 (보통이다.)' '3' '6' '5' '2']\n",
      "['7    (매우 그렇다)' '4    (보통이다)' '6' '5' '3' '1    (전혀 그렇지 않다)']\n"
     ]
    }
   ],
   "source": [
    "# 7점 척도 데이터 범주 확인\n",
    "print(df.iloc[:, 7].unique())\n",
    "print(df.iloc[:, 12].unique())"
   ]
  },
  {
   "cell_type": "code",
   "execution_count": 4,
   "metadata": {},
   "outputs": [],
   "source": [
    "score_dict = {\"7 (매우 그렇다.)\": 7, \"7    (매우 그렇다)\": 7,\n",
    "              \"6\":6,\n",
    "              \"5\":5,\n",
    "              \"4 (보통이다.)\":4, \"4    (보통이다)\":4,\n",
    "              \"3\":3,\n",
    "              \"2\":2,\n",
    "              \"1 (전혀 그렇지 않다.)\":1, \"1    (전혀 그렇지 않다)\":1}\n",
    "\n",
    "likert7_cols = df.iloc[:, 6:18].columns.tolist()\n",
    "\n",
    "for col in likert7_cols:\n",
    "    tmp = []\n",
    "    for item in df[col]:\n",
    "        tmp.append(score_dict[item])\n",
    "    df[col] = tmp\n",
    "\n",
    "    \n",
    "# 애플: 0, 삼성: 1\n",
    "df['Manufacturer'] = [0 if x == \"애플\" else 1 for x in df['Manufacturer']]    \n",
    "\n",
    "\n",
    "# 아이폰 시리즈에 se, xs 포함\n",
    "for idx, item in enumerate(df['phone_series']):    \n",
    "    if item == 'apple 아이폰 xs': df.iloc[idx, 3] = \"애플 시리즈 (아이폰 12, 11 시리즈 등)\"\n",
    "    elif item == '아이폰se2': df.iloc[idx, 3] = \"애플 시리즈 (아이폰 12, 11 시리즈 등)\"\n",
    "        \n",
    "\n",
    "# 점수 변환\n",
    "category_dict = {\"6개월 미만\": 0, '애플 시리즈 (아이폰 12, 11 시리즈 등)': 0, '애플의 폴더블폰': 0, '남성': 0,\n",
    "               \"6개월 ~ 1년 미만\": 1, '삼성 폴더블폰 (Z-Fold 시리즈, Z-Flip 시리즈 등)': 1, '매우 불만족': 1,\n",
    "               '전혀 그렇지 않다.': 1, '구입할 의향이 전혀 없다.': 1, '삼성의 Z-플립': 1, '여성': 1,\n",
    "                 \n",
    "               \"1년 ~ 1년 6개월 미만\": 2, '삼성 갤럭시 시리즈 (S 시리즈, Note 시리즈 등)': 2, '불만족': 2, '그렇지 않다.': 2, '구입할 의향이 없다.': 2,\n",
    "               \"1년 6개월 ~ 2년 미만\": 3, 'LG (윙, V, Q 시리즈 등)': 3, '보통': 3, '보통이다.':3,\n",
    "               \"2년 이상\": 4, '만족': 4, '그렇다.': 4, '구입할 의향이 있다.': 4,\n",
    "               '매우 만족': 5, '매우 그렇다.': 5, '구입할 의향이 매우 있다.': 5}\n",
    "\n",
    "categorical_cols = ['using_period', 'proper_change_period', 'phone_series', 'brand_satisfying', 'fordable_intension',\n",
    "                    'intension_135', 'intension_155', 'intension_175', 'appford_flip', 'gender']\n",
    "\n",
    "for col in categorical_cols:\n",
    "    tmp = []\n",
    "    for item in df[col]:\n",
    "        tmp.append(category_dict[item])\n",
    "    df[col] =tmp\n",
    "\n",
    "\n",
    "# 디자인 특성 및 브랜드 충성도 평균 점수 산출\n",
    "df['design_feature'] = round(((df['design_v1'] + df['design_v2'] + df['design_v3'] + df['design_v4'] + df['design_v5'] + df['design_v6']) / 6), 2)\n",
    "df['brand_loyalty'] = round(((df['loyalty_v1'] + df['loyalty_v2'] + df['loyalty_v3'] + df['loyalty_v4'] + df['loyalty_v5'] + df['loyalty_v6']) / 6), 2)\n",
    "\n",
    "# 디자인 특성, 브랜드 충성도 하위 질문 \n",
    "df.drop(columns=['design_v1', 'design_v2', 'design_v3', 'design_v4', 'design_v5', 'design_v6',\n",
    "                 'loyalty_v1', 'loyalty_v2', 'loyalty_v3', 'loyalty_v4', 'loyalty_v5', 'loyalty_v6'], inplace=True)\n",
    "\n",
    "# 동일 브랜드 기기 사용 개수 전처리\n",
    "df.same_brand_item.fillna(\"0개\", inplace=True)\n",
    "df.same_brand_item = [int(x[:1]) for x in df.same_brand_item]"
   ]
  },
  {
   "cell_type": "code",
   "execution_count": 5,
   "metadata": {},
   "outputs": [],
   "source": [
    "# df.to_csv(\"/Users/hansuho/Desktop/21-1 KNU/학교 수업/마케팅리서치/기말발표/폴더블_열이름변경/preprocessed_data.csv\", index=False)"
   ]
  },
  {
   "cell_type": "code",
   "execution_count": 6,
   "metadata": {},
   "outputs": [
    {
     "data": {
      "text/html": [
       "<div>\n",
       "<style scoped>\n",
       "    .dataframe tbody tr th:only-of-type {\n",
       "        vertical-align: middle;\n",
       "    }\n",
       "\n",
       "    .dataframe tbody tr th {\n",
       "        vertical-align: top;\n",
       "    }\n",
       "\n",
       "    .dataframe thead th {\n",
       "        text-align: right;\n",
       "    }\n",
       "</style>\n",
       "<table border=\"1\" class=\"dataframe\">\n",
       "  <thead>\n",
       "    <tr style=\"text-align: right;\">\n",
       "      <th></th>\n",
       "      <th>Manufacturer</th>\n",
       "      <th>using_period</th>\n",
       "      <th>proper_change_period</th>\n",
       "      <th>phone_series</th>\n",
       "      <th>brand_satisfying</th>\n",
       "      <th>satisfying_factor</th>\n",
       "      <th>purchase_reason</th>\n",
       "      <th>same_brand_item</th>\n",
       "      <th>channels</th>\n",
       "      <th>online_channel</th>\n",
       "      <th>online_reason</th>\n",
       "      <th>offline_channel</th>\n",
       "      <th>offline_channel.1</th>\n",
       "      <th>fordable_intension</th>\n",
       "      <th>intension_135</th>\n",
       "      <th>intension_155</th>\n",
       "      <th>intension_175</th>\n",
       "      <th>appford_flip</th>\n",
       "      <th>gender</th>\n",
       "      <th>age</th>\n",
       "      <th>design_feature</th>\n",
       "      <th>brand_loyalty</th>\n",
       "    </tr>\n",
       "  </thead>\n",
       "  <tbody>\n",
       "    <tr>\n",
       "      <th>0</th>\n",
       "      <td>0</td>\n",
       "      <td>1</td>\n",
       "      <td>3</td>\n",
       "      <td>0</td>\n",
       "      <td>5</td>\n",
       "      <td>사용 편의성</td>\n",
       "      <td>주변 IT 기기와의 호환성 (7-1번 질문으로 이동하십시오)</td>\n",
       "      <td>4</td>\n",
       "      <td>오프라인 (10번 질문으로 이동하십시오)</td>\n",
       "      <td>NaN</td>\n",
       "      <td>NaN</td>\n",
       "      <td>이마트(일렉트로마트)</td>\n",
       "      <td>편리성</td>\n",
       "      <td>5</td>\n",
       "      <td>5</td>\n",
       "      <td>4</td>\n",
       "      <td>2</td>\n",
       "      <td>0</td>\n",
       "      <td>0</td>\n",
       "      <td>20대</td>\n",
       "      <td>6.5</td>\n",
       "      <td>7.00</td>\n",
       "    </tr>\n",
       "    <tr>\n",
       "      <th>1</th>\n",
       "      <td>0</td>\n",
       "      <td>1</td>\n",
       "      <td>4</td>\n",
       "      <td>0</td>\n",
       "      <td>5</td>\n",
       "      <td>디자인</td>\n",
       "      <td>성능</td>\n",
       "      <td>0</td>\n",
       "      <td>온라인 (9번 질문으로 이동하십시오)</td>\n",
       "      <td>중고나라</td>\n",
       "      <td>가격</td>\n",
       "      <td>NaN</td>\n",
       "      <td>NaN</td>\n",
       "      <td>3</td>\n",
       "      <td>1</td>\n",
       "      <td>1</td>\n",
       "      <td>1</td>\n",
       "      <td>0</td>\n",
       "      <td>0</td>\n",
       "      <td>20대</td>\n",
       "      <td>6.5</td>\n",
       "      <td>6.83</td>\n",
       "    </tr>\n",
       "  </tbody>\n",
       "</table>\n",
       "</div>"
      ],
      "text/plain": [
       "   Manufacturer  using_period  proper_change_period  phone_series  \\\n",
       "0             0             1                     3             0   \n",
       "1             0             1                     4             0   \n",
       "\n",
       "   brand_satisfying satisfying_factor                    purchase_reason  \\\n",
       "0                 5            사용 편의성  주변 IT 기기와의 호환성 (7-1번 질문으로 이동하십시오)   \n",
       "1                 5               디자인                                 성능   \n",
       "\n",
       "   same_brand_item                channels online_channel online_reason  \\\n",
       "0                4  오프라인 (10번 질문으로 이동하십시오)            NaN           NaN   \n",
       "1                0    온라인 (9번 질문으로 이동하십시오)           중고나라            가격   \n",
       "\n",
       "  offline_channel offline_channel.1  fordable_intension  intension_135  \\\n",
       "0     이마트(일렉트로마트)               편리성                   5              5   \n",
       "1             NaN               NaN                   3              1   \n",
       "\n",
       "   intension_155  intension_175  appford_flip  gender  age  design_feature  \\\n",
       "0              4              2             0       0  20대             6.5   \n",
       "1              1              1             0       0  20대             6.5   \n",
       "\n",
       "   brand_loyalty  \n",
       "0           7.00  \n",
       "1           6.83  "
      ]
     },
     "execution_count": 6,
     "metadata": {},
     "output_type": "execute_result"
    }
   ],
   "source": [
    "df.head(2)"
   ]
  },
  {
   "cell_type": "code",
   "execution_count": 7,
   "metadata": {},
   "outputs": [
    {
     "name": "stderr",
     "output_type": "stream",
     "text": [
      "/Users/hansuho/opt/anaconda3/lib/python3.8/site-packages/pandas/core/frame.py:4163: SettingWithCopyWarning: \n",
      "A value is trying to be set on a copy of a slice from a DataFrame\n",
      "\n",
      "See the caveats in the documentation: https://pandas.pydata.org/pandas-docs/stable/user_guide/indexing.html#returning-a-view-versus-a-copy\n",
      "  return super().drop(\n"
     ]
    }
   ],
   "source": [
    "# # 독립표본 t-검정\n",
    "# from scipy import stats\n",
    "\n",
    "# # 변수 생성\n",
    "apple = df[df['Manufacturer'] == 0]\n",
    "samsung = df[df['Manufacturer'] == 1]\n",
    "\n",
    "apple.reset_index(inplace=True)\n",
    "apple.drop(columns = 'index', inplace=True)\n",
    "samsung.reset_index(inplace=True)\n",
    "samsung.drop(columns = 'index', inplace=True)\n",
    "\n",
    "# #제조사의 등분산 검정 \n",
    "# manufacturer_result = stats.levene(apple['brand_loyalty'], samsung['brand_loyalty'])\n",
    "# print('LeveneResult(F) : %.3f \\np-value : %.3f' % (manufacturer_result))"
   ]
  },
  {
   "cell_type": "code",
   "execution_count": 8,
   "metadata": {},
   "outputs": [],
   "source": [
    "# result = stats.ttest_ind(apple['brand_loyalty'], samsung['brand_loyalty'], equal_var=True) \n",
    "# print('t statistic : %.3f \\np-value : %.3f' % (result))"
   ]
  },
  {
   "cell_type": "code",
   "execution_count": null,
   "metadata": {},
   "outputs": [],
   "source": []
  },
  {
   "cell_type": "code",
   "execution_count": 9,
   "metadata": {},
   "outputs": [
    {
     "name": "stdout",
     "output_type": "stream",
     "text": [
      "\n",
      "Apple 사용자들의 평균 브랜드 충성도: 5.495526315789474\n",
      "Samsung 사용자들의 평균 브랜드 충성도: 5.226428571428571\n",
      "\n",
      "Apple 사용자들의 평균 디자인 특성: 5.539999999999999\n",
      "Samsung 사용자들의 평균 디자인 특성: 4.3567857142857145\n",
      "\n"
     ]
    }
   ],
   "source": [
    "apple_mean_loyalty = apple['brand_loyalty'].mean()\n",
    "samsung_mean_loyalty = samsung['brand_loyalty'].mean()\n",
    "\n",
    "apple_mean_design = apple['design_feature'].mean()\n",
    "samsung_mean_design = samsung['design_feature'].mean()\n",
    "\n",
    "print(f\"\"\"\n",
    "Apple 사용자들의 평균 브랜드 충성도: {apple_mean_loyalty}\n",
    "Samsung 사용자들의 평균 브랜드 충성도: {samsung_mean_loyalty}\n",
    "\n",
    "Apple 사용자들의 평균 디자인 특성: {apple_mean_design}\n",
    "Samsung 사용자들의 평균 디자인 특성: {samsung_mean_design}\n",
    "\"\"\")"
   ]
  },
  {
   "cell_type": "code",
   "execution_count": 10,
   "metadata": {},
   "outputs": [
    {
     "name": "stdout",
     "output_type": "stream",
     "text": [
      "설문 응답자 전체 단순 구매의도 척도 평균: 2.35\n",
      "애플 사용자 그룹의 단순 구매의도 척도 평균: 2.58\n",
      "삼성 사용자 그룹의 단순 구매의도 척도 평균: 2.04\n",
      "\n",
      "\n",
      "Apple 사용자들의 평균 브랜드 충성도: 5.495526315789474\n",
      "Samsung 사용자들의 평균 브랜드 충성도: 5.226428571428571\n",
      "\n"
     ]
    },
    {
     "data": {
      "image/png": "[encoded data removed]",
      "text/plain": [
       "<Figure size 432x288 with 1 Axes>"
      ]
     },
     "metadata": {
      "needs_background": "light"
     },
     "output_type": "display_data"
    }
   ],
   "source": [
    "all_respondent_intension_mean = round(df.fordable_intension.mean(), 2)\n",
    "apple_user_intension_mean = round(df[df[\"Manufacturer\"] == 0].fordable_intension.mean(), 2)\n",
    "samsung_user_intension_mean = round(df[df[\"Manufacturer\"] == 1].fordable_intension.mean(), 2)\n",
    "\n",
    "print(f\"설문 응답자 전체 단순 구매의도 척도 평균: {all_respondent_intension_mean}\")\n",
    "print(f\"애플 사용자 그룹의 단순 구매의도 척도 평균: {apple_user_intension_mean}\")\n",
    "print(f\"삼성 사용자 그룹의 단순 구매의도 척도 평균: {samsung_user_intension_mean}\")\n",
    "print()\n",
    "print(f\"\"\"\n",
    "Apple 사용자들의 평균 브랜드 충성도: {apple_mean_loyalty}\n",
    "Samsung 사용자들의 평균 브랜드 충성도: {samsung_mean_loyalty}\"\"\")\n",
    "print()\n",
    "\n",
    "x = [\"All_Respondent\", \"Apple_User\", \"Samsung_User\"]\n",
    "y = [all_respondent_intension_mean, apple_user_intension_mean, samsung_user_intension_mean]\n",
    "\n",
    "sns.lineplot(x=x, y=y)\n",
    "plt.title(\"Purchase Intension Graph\", fontsize=15)\n",
    "plt.yticks(np.arange(2.0, 2.8, 0.2))\n",
    "plt.xticks(rotation=45, fontsize=10)\n",
    "plt.show()"
   ]
  },
  {
   "cell_type": "code",
   "execution_count": null,
   "metadata": {},
   "outputs": [],
   "source": []
  },
  {
   "cell_type": "code",
   "execution_count": 11,
   "metadata": {},
   "outputs": [],
   "source": [
    "its_df = df[['Manufacturer', 'fordable_intension', 'intension_135', 'intension_155', 'intension_175', 'appford_flip']]"
   ]
  },
  {
   "cell_type": "code",
   "execution_count": 12,
   "metadata": {},
   "outputs": [
    {
     "data": {
      "text/html": [
       "<div>\n",
       "<style scoped>\n",
       "    .dataframe tbody tr th:only-of-type {\n",
       "        vertical-align: middle;\n",
       "    }\n",
       "\n",
       "    .dataframe tbody tr th {\n",
       "        vertical-align: top;\n",
       "    }\n",
       "\n",
       "    .dataframe thead th {\n",
       "        text-align: right;\n",
       "    }\n",
       "</style>\n",
       "<table border=\"1\" class=\"dataframe\">\n",
       "  <thead>\n",
       "    <tr style=\"text-align: right;\">\n",
       "      <th></th>\n",
       "      <th>Manufacturer</th>\n",
       "      <th>fordable_intension</th>\n",
       "      <th>intension_135</th>\n",
       "      <th>intension_155</th>\n",
       "      <th>intension_175</th>\n",
       "      <th>appford_flip</th>\n",
       "    </tr>\n",
       "  </thead>\n",
       "  <tbody>\n",
       "    <tr>\n",
       "      <th>0</th>\n",
       "      <td>0</td>\n",
       "      <td>5</td>\n",
       "      <td>5</td>\n",
       "      <td>4</td>\n",
       "      <td>2</td>\n",
       "      <td>0</td>\n",
       "    </tr>\n",
       "    <tr>\n",
       "      <th>1</th>\n",
       "      <td>0</td>\n",
       "      <td>3</td>\n",
       "      <td>1</td>\n",
       "      <td>1</td>\n",
       "      <td>1</td>\n",
       "      <td>0</td>\n",
       "    </tr>\n",
       "    <tr>\n",
       "      <th>2</th>\n",
       "      <td>1</td>\n",
       "      <td>1</td>\n",
       "      <td>1</td>\n",
       "      <td>1</td>\n",
       "      <td>1</td>\n",
       "      <td>1</td>\n",
       "    </tr>\n",
       "    <tr>\n",
       "      <th>3</th>\n",
       "      <td>1</td>\n",
       "      <td>1</td>\n",
       "      <td>1</td>\n",
       "      <td>1</td>\n",
       "      <td>1</td>\n",
       "      <td>1</td>\n",
       "    </tr>\n",
       "    <tr>\n",
       "      <th>4</th>\n",
       "      <td>0</td>\n",
       "      <td>3</td>\n",
       "      <td>2</td>\n",
       "      <td>2</td>\n",
       "      <td>1</td>\n",
       "      <td>0</td>\n",
       "    </tr>\n",
       "  </tbody>\n",
       "</table>\n",
       "</div>"
      ],
      "text/plain": [
       "   Manufacturer  fordable_intension  intension_135  intension_155  \\\n",
       "0             0                   5              5              4   \n",
       "1             0                   3              1              1   \n",
       "2             1                   1              1              1   \n",
       "3             1                   1              1              1   \n",
       "4             0                   3              2              2   \n",
       "\n",
       "   intension_175  appford_flip  \n",
       "0              2             0  \n",
       "1              1             0  \n",
       "2              1             1  \n",
       "3              1             1  \n",
       "4              1             0  "
      ]
     },
     "execution_count": 12,
     "metadata": {},
     "output_type": "execute_result"
    }
   ],
   "source": [
    "its_df.head()"
   ]
  },
  {
   "cell_type": "code",
   "execution_count": 13,
   "metadata": {},
   "outputs": [],
   "source": [
    "its_df_a = its_df[its_df['Manufacturer'] == 0]\n",
    "its_df_s = its_df[its_df['Manufacturer'] == 1]"
   ]
  },
  {
   "cell_type": "code",
   "execution_count": 14,
   "metadata": {},
   "outputs": [
    {
     "data": {
      "text/plain": [
       "Counter({1: 15, 2: 4, 3: 4, 4: 3, 5: 2})"
      ]
     },
     "execution_count": 14,
     "metadata": {},
     "output_type": "execute_result"
    }
   ],
   "source": [
    "import matplotlib.pyplot as plt\n",
    "import collections\n",
    "\n",
    "fordable_intension_a = collections.Counter(its_df_a['fordable_intension'])\n",
    "fordable_intension_s = collections.Counter(its_df_s['fordable_intension'])\n",
    "fordable_intension_s"
   ]
  },
  {
   "cell_type": "code",
   "execution_count": 15,
   "metadata": {},
   "outputs": [
    {
     "data": {
      "image/png": "[encoded data removed]",
      "text/plain": [
       "<Figure size 432x288 with 1 Axes>"
      ]
     },
     "metadata": {
      "needs_background": "light"
     },
     "output_type": "display_data"
    }
   ],
   "source": [
    "a = np.arange(5)\n",
    "scale = [1, 2, 3, 4, 5]\n",
    "\n",
    "value_a = [11, 6, 13, 4, 4]\n",
    "value_s = [15, 4, 4, 3, 2]\n",
    "\n",
    "plt.bar(a, value_a)\n",
    "plt.xticks(a, scale)\n",
    "plt.yticks(np.arange(0, 16, 3))\n",
    "plt.title(\"Apple User's folderble Iphone purchase intension\")\n",
    "plt.show()\n",
    "\n",
    "# plt.bar(s, value_s)\n",
    "# plt.xticks(s, scale)\n",
    "# plt.yticks(np.arange(0, 16, 3))\n",
    "# plt.title(\"Samsung User's folderble Iphone purchase intension\")\n",
    "# plt.show()"
   ]
  },
  {
   "cell_type": "code",
   "execution_count": 16,
   "metadata": {},
   "outputs": [
    {
     "data": {
      "text/plain": [
       "(Counter({2: 2, 1: 30, 3: 6}), Counter({1: 23, 2: 3, 5: 2}))"
      ]
     },
     "execution_count": 16,
     "metadata": {},
     "output_type": "execute_result"
    }
   ],
   "source": [
    "intension_a_175 = collections.Counter(its_df_a['intension_175'])\n",
    "intension_s_175 = collections.Counter(its_df_s['intension_175'])\n",
    "intension_a_175, intension_s_175"
   ]
  },
  {
   "cell_type": "code",
   "execution_count": 17,
   "metadata": {},
   "outputs": [
    {
     "data": {
      "image/png": "[encoded data removed]",
      "text/plain": [
       "<Figure size 432x288 with 1 Axes>"
      ]
     },
     "metadata": {
      "needs_background": "light"
     },
     "output_type": "display_data"
    }
   ],
   "source": [
    "a = np.arange(5)\n",
    "value_a = [30, 2, 6, 0, 0]\n",
    "scale_a = [1, 2, 3, 4, 5]\n",
    "\n",
    "\n",
    "plt.bar(a, value_a)\n",
    "plt.xticks(a, scale_a)\n",
    "plt.yticks(np.arange(0, 31, 5))\n",
    "plt.title(\"Apple User's foldarble phone purchase intension (175-195)\")\n",
    "plt.show()"
   ]
  },
  {
   "cell_type": "code",
   "execution_count": 18,
   "metadata": {},
   "outputs": [
    {
     "data": {
      "text/plain": [
       "(Counter({'편리성': 18,\n",
       "          nan: 17,\n",
       "          '제품 실물을 확인하기 위해서': 13,\n",
       "          '구매 보조금': 11,\n",
       "          '가격을 더깍을수있어서': 1,\n",
       "          '개인사정': 1,\n",
       "          '아버지가 직원이셔서..': 1,\n",
       "          '얼떨결에...': 1,\n",
       "          '사은품': 2,\n",
       "          '싼 가격': 1}),\n",
       " Counter({nan: 46,\n",
       "          '가격': 1,\n",
       "          '자급제 사용을 위해서': 9,\n",
       "          '편리성': 4,\n",
       "          '온라인 사전예약을 위해서 (9번 질문으로 이동하십시오)': 1,\n",
       "          '온라인 사전예약을 위해서': 4,\n",
       "          '가격할인': 1}))"
      ]
     },
     "execution_count": 18,
     "metadata": {},
     "output_type": "execute_result"
    }
   ],
   "source": [
    "offline_reasons = collections.Counter(df['offline_channel.1'])\n",
    "online_reasons = collections.Counter(df['online_reason'])\n",
    "offline_reasons, online_reasons"
   ]
  },
  {
   "cell_type": "code",
   "execution_count": 19,
   "metadata": {},
   "outputs": [
    {
     "data": {
      "image/png": "[encoded data removed]",
      "text/plain": [
       "<Figure size 432x288 with 1 Axes>"
      ]
     },
     "metadata": {
      "needs_background": "light"
     },
     "output_type": "display_data"
    }
   ],
   "source": [
    "collections.Counter(df.fordable_intension)\n",
    "\n",
    "a = np.arange(5)\n",
    "scale = [1,2,3,4,5]\n",
    "values = [26, 10, 17, 7, 6]\n",
    "\n",
    "plt.bar(a, values)\n",
    "plt.xticks(a, scale)\n",
    "plt.show()"
   ]
  },
  {
   "cell_type": "code",
   "execution_count": 20,
   "metadata": {},
   "outputs": [
    {
     "data": {
      "text/plain": [
       "(2.35, 2.2, 1.68, 1.38)"
      ]
     },
     "execution_count": 20,
     "metadata": {},
     "output_type": "execute_result"
    }
   ],
   "source": [
    "round(df.fordable_intension.mean(),2),round(df.intension_135.mean(),2), round(df.intension_155.mean(), 2), round(df.intension_175.mean(),2)"
   ]
  },
  {
   "cell_type": "code",
   "execution_count": 21,
   "metadata": {},
   "outputs": [
    {
     "data": {
      "text/plain": [
       "(3.6333333333333333, 3.066666666666667, 2.3, 1.6)"
      ]
     },
     "execution_count": 21,
     "metadata": {},
     "output_type": "execute_result"
    }
   ],
   "source": [
    "intension_upper3 = df[df['fordable_intension']>=3]\n",
    "intension_upper3.fordable_intension.mean(),intension_upper3.intension_135.mean(), intension_upper3.intension_155.mean(), intension_upper3.intension_175.mean()"
   ]
  },
  {
   "cell_type": "code",
   "execution_count": 22,
   "metadata": {},
   "outputs": [
    {
     "data": {
      "text/html": [
       "<div>\n",
       "<style scoped>\n",
       "    .dataframe tbody tr th:only-of-type {\n",
       "        vertical-align: middle;\n",
       "    }\n",
       "\n",
       "    .dataframe tbody tr th {\n",
       "        vertical-align: top;\n",
       "    }\n",
       "\n",
       "    .dataframe thead th {\n",
       "        text-align: right;\n",
       "    }\n",
       "</style>\n",
       "<table border=\"1\" class=\"dataframe\">\n",
       "  <thead>\n",
       "    <tr style=\"text-align: right;\">\n",
       "      <th></th>\n",
       "      <th>Manufacturer</th>\n",
       "      <th>using_period</th>\n",
       "      <th>proper_change_period</th>\n",
       "      <th>phone_series</th>\n",
       "      <th>brand_satisfying</th>\n",
       "      <th>satisfying_factor</th>\n",
       "      <th>purchase_reason</th>\n",
       "      <th>same_brand_item</th>\n",
       "      <th>channels</th>\n",
       "      <th>online_channel</th>\n",
       "      <th>online_reason</th>\n",
       "      <th>offline_channel</th>\n",
       "      <th>offline_channel.1</th>\n",
       "      <th>fordable_intension</th>\n",
       "      <th>intension_135</th>\n",
       "      <th>intension_155</th>\n",
       "      <th>intension_175</th>\n",
       "      <th>appford_flip</th>\n",
       "      <th>gender</th>\n",
       "      <th>age</th>\n",
       "      <th>design_feature</th>\n",
       "      <th>brand_loyalty</th>\n",
       "    </tr>\n",
       "  </thead>\n",
       "  <tbody>\n",
       "    <tr>\n",
       "      <th>0</th>\n",
       "      <td>0</td>\n",
       "      <td>1</td>\n",
       "      <td>3</td>\n",
       "      <td>0</td>\n",
       "      <td>5</td>\n",
       "      <td>사용 편의성</td>\n",
       "      <td>주변 IT 기기와의 호환성 (7-1번 질문으로 이동하십시오)</td>\n",
       "      <td>4</td>\n",
       "      <td>오프라인 (10번 질문으로 이동하십시오)</td>\n",
       "      <td>NaN</td>\n",
       "      <td>NaN</td>\n",
       "      <td>이마트(일렉트로마트)</td>\n",
       "      <td>편리성</td>\n",
       "      <td>5</td>\n",
       "      <td>5</td>\n",
       "      <td>4</td>\n",
       "      <td>2</td>\n",
       "      <td>0</td>\n",
       "      <td>0</td>\n",
       "      <td>20대</td>\n",
       "      <td>6.5</td>\n",
       "      <td>7.00</td>\n",
       "    </tr>\n",
       "    <tr>\n",
       "      <th>1</th>\n",
       "      <td>0</td>\n",
       "      <td>1</td>\n",
       "      <td>4</td>\n",
       "      <td>0</td>\n",
       "      <td>5</td>\n",
       "      <td>디자인</td>\n",
       "      <td>성능</td>\n",
       "      <td>0</td>\n",
       "      <td>온라인 (9번 질문으로 이동하십시오)</td>\n",
       "      <td>중고나라</td>\n",
       "      <td>가격</td>\n",
       "      <td>NaN</td>\n",
       "      <td>NaN</td>\n",
       "      <td>3</td>\n",
       "      <td>1</td>\n",
       "      <td>1</td>\n",
       "      <td>1</td>\n",
       "      <td>0</td>\n",
       "      <td>0</td>\n",
       "      <td>20대</td>\n",
       "      <td>6.5</td>\n",
       "      <td>6.83</td>\n",
       "    </tr>\n",
       "  </tbody>\n",
       "</table>\n",
       "</div>"
      ],
      "text/plain": [
       "   Manufacturer  using_period  proper_change_period  phone_series  \\\n",
       "0             0             1                     3             0   \n",
       "1             0             1                     4             0   \n",
       "\n",
       "   brand_satisfying satisfying_factor                    purchase_reason  \\\n",
       "0                 5            사용 편의성  주변 IT 기기와의 호환성 (7-1번 질문으로 이동하십시오)   \n",
       "1                 5               디자인                                 성능   \n",
       "\n",
       "   same_brand_item                channels online_channel online_reason  \\\n",
       "0                4  오프라인 (10번 질문으로 이동하십시오)            NaN           NaN   \n",
       "1                0    온라인 (9번 질문으로 이동하십시오)           중고나라            가격   \n",
       "\n",
       "  offline_channel offline_channel.1  fordable_intension  intension_135  \\\n",
       "0     이마트(일렉트로마트)               편리성                   5              5   \n",
       "1             NaN               NaN                   3              1   \n",
       "\n",
       "   intension_155  intension_175  appford_flip  gender  age  design_feature  \\\n",
       "0              4              2             0       0  20대             6.5   \n",
       "1              1              1             0       0  20대             6.5   \n",
       "\n",
       "   brand_loyalty  \n",
       "0           7.00  \n",
       "1           6.83  "
      ]
     },
     "execution_count": 22,
     "metadata": {},
     "output_type": "execute_result"
    }
   ],
   "source": [
    "# 폴더블 구매의사 3점 이상\n",
    "\n",
    "intension_upper3.head(2)"
   ]
  },
  {
   "cell_type": "code",
   "execution_count": 23,
   "metadata": {},
   "outputs": [
    {
     "data": {
      "text/plain": [
       "1"
      ]
     },
     "execution_count": 23,
     "metadata": {},
     "output_type": "execute_result"
    }
   ],
   "source": [
    "df.loc[13, 'intension_135']"
   ]
  },
  {
   "cell_type": "code",
   "execution_count": 24,
   "metadata": {},
   "outputs": [],
   "source": [
    "intension_per_price = []    # 각 가격대별 구매의도 점수 리스트\n",
    "for i in range(len(df)):\n",
    "    tmp = [df.loc[i, 'intension_135'], df.loc[i, 'intension_155'], df.loc[i, 'intension_175']]\n",
    "    intension_per_price.append(tmp)\n",
    "\n",
    "# 사용자별 최고 구매의도 가격대 리스트\n",
    "maxprice_idx_list = []\n",
    "for each_list in intension_per_price:\n",
    "    tmp_max = max(each_list)\n",
    "    tmp_idx = 0\n",
    "    if tmp_max != 1:\n",
    "        for i, each_item in enumerate(each_list):\n",
    "            if each_item == tmp_max:\n",
    "                tmp_idx = i\n",
    "    else: tmp_idx = each_list.index(tmp_max)\n",
    "    if tmp_idx == 0: tmp_idx = \"135 ~ 155\"\n",
    "    elif tmp_idx == 1: tmp_idx = \"155 ~ 175\"\n",
    "    else: tmp_idx = \"175 ~ 195\"\n",
    "    maxprice_idx_list.append(tmp_idx)\n",
    "\n",
    "df['max_price_intension'] = maxprice_idx_list"
   ]
  },
  {
   "cell_type": "code",
   "execution_count": 25,
   "metadata": {},
   "outputs": [
    {
     "data": {
      "text/plain": [
       "['135 ~ 155', '135 ~ 155', '135 ~ 155', '135 ~ 155', '155 ~ 175']"
      ]
     },
     "execution_count": 25,
     "metadata": {},
     "output_type": "execute_result"
    }
   ],
   "source": [
    "maxprice_idx_list[:5]"
   ]
  },
  {
   "cell_type": "code",
   "execution_count": 26,
   "metadata": {},
   "outputs": [
    {
     "data": {
      "text/plain": [
       "[('135 ~ 155', 51), ('155 ~ 175', 10), ('175 ~ 195', 5)]"
      ]
     },
     "execution_count": 26,
     "metadata": {},
     "output_type": "execute_result"
    }
   ],
   "source": [
    "max_price_intension_list = dict(collections.Counter(df.max_price_intension))\n",
    "max_price_intension_list = sorted(max_price_intension_list.items())\n",
    "max_price_intension_list"
   ]
  },
  {
   "cell_type": "code",
   "execution_count": 27,
   "metadata": {},
   "outputs": [
    {
     "name": "stdout",
     "output_type": "stream",
     "text": [
      "[('135 ~ 155', 51), ('155 ~ 175', 10), ('175 ~ 195', 5)]\n"
     ]
    },
    {
     "data": {
      "image/png": "[encoded data removed]",
      "text/plain": [
       "<Figure size 432x288 with 1 Axes>"
      ]
     },
     "metadata": {
      "needs_background": "light"
     },
     "output_type": "display_data"
    }
   ],
   "source": [
    "\n",
    "\n",
    "x = [x[0] for x in max_price_intension_list]\n",
    "y = [x[1] for x in max_price_intension_list]\n",
    "sns.barplot(x=x, y=y)\n",
    "plt.title('max purchase intension')\n",
    "plt.yticks(np.arange(0, 61, 10))\n",
    "print(max_price_intension_list)\n",
    "plt.show()"
   ]
  },
  {
   "cell_type": "code",
   "execution_count": 28,
   "metadata": {},
   "outputs": [
    {
     "name": "stderr",
     "output_type": "stream",
     "text": [
      "/Users/hansuho/opt/anaconda3/lib/python3.8/site-packages/pandas/core/frame.py:4163: SettingWithCopyWarning: \n",
      "A value is trying to be set on a copy of a slice from a DataFrame\n",
      "\n",
      "See the caveats in the documentation: https://pandas.pydata.org/pandas-docs/stable/user_guide/indexing.html#returning-a-view-versus-a-copy\n",
      "  return super().drop(\n"
     ]
    }
   ],
   "source": [
    "apple = df[df['Manufacturer'] == 0]\n",
    "samsung = df[df['Manufacturer'] == 1]\n",
    "\n",
    "apple.reset_index(inplace=True)\n",
    "apple.drop(columns = 'index', inplace=True)\n",
    "samsung.reset_index(inplace=True)\n",
    "samsung.drop(columns = 'index', inplace=True)"
   ]
  },
  {
   "cell_type": "code",
   "execution_count": 29,
   "metadata": {},
   "outputs": [
    {
     "name": "stdout",
     "output_type": "stream",
     "text": [
      "[('135 ~ 155', 28), ('155 ~ 175', 8), ('175 ~ 195', 2)]\n"
     ]
    },
    {
     "data": {
      "image/png": "[encoded data removed]",
      "text/plain": [
       "<Figure size 432x288 with 1 Axes>"
      ]
     },
     "metadata": {
      "needs_background": "light"
     },
     "output_type": "display_data"
    },
    {
     "name": "stdout",
     "output_type": "stream",
     "text": [
      "\n",
      "[('135 ~ 155', 23), ('155 ~ 175', 2), ('175 ~ 195', 3)]\n"
     ]
    },
    {
     "data": {
      "image/png": "[encoded data removed]",
      "text/plain": [
       "<Figure size 432x288 with 1 Axes>"
      ]
     },
     "metadata": {
      "needs_background": "light"
     },
     "output_type": "display_data"
    }
   ],
   "source": [
    "max_price_intension_list_a = dict(collections.Counter(apple.max_price_intension))\n",
    "max_price_intension_list_a = sorted(max_price_intension_list_a.items())\n",
    "\n",
    "max_price_intension_list_s = dict(collections.Counter(samsung.max_price_intension))\n",
    "max_price_intension_list_s = sorted(max_price_intension_list_s.items())\n",
    "\n",
    "\n",
    "x_a = [x[0] for x in max_price_intension_list_a]\n",
    "y_a = [x[1] for x in max_price_intension_list_a]\n",
    "sns.barplot(x=x_a, y=y_a)\n",
    "plt.title(\"Apple User's max purchase intension\")\n",
    "plt.yticks(np.arange(0, 31, 5))\n",
    "print(max_price_intension_list_a)\n",
    "plt.show()\n",
    "print()\n",
    "\n",
    "x_s = [x[0] for x in max_price_intension_list_s]\n",
    "y_s = [x[1] for x in max_price_intension_list_s]\n",
    "sns.barplot(x=x_s, y=y_s)\n",
    "plt.title(\"Samsung User's max purchase intension\")\n",
    "plt.yticks(np.arange(0, 31, 5))\n",
    "print(max_price_intension_list_s)\n",
    "plt.show()"
   ]
  },
  {
   "cell_type": "code",
   "execution_count": 30,
   "metadata": {},
   "outputs": [],
   "source": [
    "design_group = df[df['satisfying_factor'] == \"디자인\"]\n",
    "perform_group = df[df['satisfying_factor'] == \"성능\"]"
   ]
  },
  {
   "cell_type": "code",
   "execution_count": 31,
   "metadata": {},
   "outputs": [
    {
     "data": {
      "text/plain": [
       "(21, 12)"
      ]
     },
     "execution_count": 31,
     "metadata": {},
     "output_type": "execute_result"
    }
   ],
   "source": [
    "len(design_group), len(perform_group)"
   ]
  },
  {
   "cell_type": "code",
   "execution_count": 32,
   "metadata": {},
   "outputs": [
    {
     "data": {
      "text/plain": [
       "(2.380952380952381, 2.9166666666666665)"
      ]
     },
     "execution_count": 32,
     "metadata": {},
     "output_type": "execute_result"
    }
   ],
   "source": [
    "design_group.fordable_intension.mean(), perform_group.fordable_intension.mean(), "
   ]
  },
  {
   "cell_type": "code",
   "execution_count": 33,
   "metadata": {},
   "outputs": [
    {
     "data": {
      "text/plain": [
       "Counter({'135 ~ 155': 15, '155 ~ 175': 4, '175 ~ 195': 2})"
      ]
     },
     "execution_count": 33,
     "metadata": {},
     "output_type": "execute_result"
    }
   ],
   "source": [
    "collections.Counter(design_group['max_price_intension'])"
   ]
  },
  {
   "cell_type": "code",
   "execution_count": 34,
   "metadata": {},
   "outputs": [
    {
     "data": {
      "text/plain": [
       "Counter({'135 ~ 155': 11, '155 ~ 175': 1})"
      ]
     },
     "execution_count": 34,
     "metadata": {},
     "output_type": "execute_result"
    }
   ],
   "source": [
    "collections.Counter(perform_group['max_price_intension'])"
   ]
  },
  {
   "cell_type": "code",
   "execution_count": 35,
   "metadata": {},
   "outputs": [],
   "source": [
    "corr = df.corr(method='pearson')"
   ]
  },
  {
   "cell_type": "markdown",
   "metadata": {},
   "source": [
    "피어슨의 상관계수는 일반적으로,\n",
    "\n",
    "  값이 -1.0 ~ -0.7 이면, 강한 음적 상관관계\n",
    "\n",
    "  값이 -0.7 ~ -0.3 이면, 뚜렷한 음적 상관관계\n",
    "\n",
    "  값이 -0.3 ~ -0.1 이면, 약한 음적 상관관계\n",
    "\n",
    "  값이 -0.1 ~ +0.1 이면, 없다고 할 수 있는 상관관계\n",
    "\n",
    "  값이 +0.1 ~ +0.3 이면, 약한 양적 상관관계\n",
    "\n",
    "  값이 +0.3 ~ +0.7 이면, 뚜렷한 양적 상관관계\n",
    "\n",
    "  값이 +0.7 ~ +1.0 이면, 강한 양적 상관관계\n"
   ]
  },
  {
   "cell_type": "code",
   "execution_count": 36,
   "metadata": {},
   "outputs": [
    {
     "data": {
      "image/png": "[encoded data removed]",
      "text/plain": [
       "<Figure size 720x720 with 2 Axes>"
      ]
     },
     "metadata": {
      "needs_background": "light"
     },
     "output_type": "display_data"
    }
   ],
   "source": [
    "plt.figure(figsize=(10, 10))\n",
    "df_heatmap = sns.heatmap(corr, cbar = True, annot = True, annot_kws={'size' : 10}, fmt = '.2f', square = True, cmap = 'Blues')\n",
    "\n",
    "plt.show()"
   ]
  },
  {
   "cell_type": "code",
   "execution_count": 37,
   "metadata": {},
   "outputs": [
    {
     "data": {
      "image/png": "[encoded data removed]",
      "text/plain": [
       "<Figure size 432x288 with 2 Axes>"
      ]
     },
     "metadata": {
      "needs_background": "light"
     },
     "output_type": "display_data"
    }
   ],
   "source": [
    "corr_loyalty = df[['gender','fordable_intension', 'design_feature', 'brand_loyalty', 'max_price_intension']].corr(method='pearson')\n",
    "loyalty_heatmap = sns.heatmap(corr_loyalty, cbar = True, annot = True, annot_kws={'size' : 10}, fmt = '.2f', square = True, cmap = 'Blues')\n",
    "plt.show()"
   ]
  },
  {
   "cell_type": "code",
   "execution_count": 49,
   "metadata": {},
   "outputs": [],
   "source": [
    "brand_loyalty_count = collections.Counter(df.brand_loyalty)\n",
    "item = list(brand_loyalty_count.items())\n",
    "keys = list(brand_loyalty_count.keys())\n",
    "\n",
    "a_brand_loyalty_count = collections.Counter(apple.brand_loyalty)\n",
    "a_item = list(a_brand_loyalty_count.items())\n",
    "a_keys = list(a_brand_loyalty_count.keys())\n",
    "\n",
    "s_brand_loyalty_count = collections.Counter(samsung.brand_loyalty)\n",
    "s_item = list(s_brand_loyalty_count.items())\n",
    "s_keys = list(s_brand_loyalty_count.keys())"
   ]
  },
  {
   "cell_type": "code",
   "execution_count": 50,
   "metadata": {},
   "outputs": [],
   "source": [
    "item.sort(key=lambda x: x[0])\n",
    "a_item.sort(key=lambda x: x[0])\n",
    "s_item.sort(key=lambda x: x[0])"
   ]
  },
  {
   "cell_type": "code",
   "execution_count": 51,
   "metadata": {},
   "outputs": [],
   "source": [
    "tmp = 0\n",
    "for e, i in enumerate(item):\n",
    "    tmp += i[1]\n",
    "    item[e] = (i[0], i[1], str(round((tmp/len(df))*100, 2))+\"%\")\n",
    "    \n",
    "tmp = 0\n",
    "for e, i in enumerate(a_item):\n",
    "    tmp += i[1]\n",
    "    a_item[e] = (i[0], i[1], str(round((tmp/len(apple))*100, 2))+\"%\")\n",
    "    \n",
    "tmp = 0\n",
    "for e, i in enumerate(s_item):\n",
    "    tmp += i[1]\n",
    "    s_item[e] = (i[0], i[1], str(round((tmp/len(samsung))*100, 2))+\"%\")"
   ]
  },
  {
   "cell_type": "code",
   "execution_count": 41,
   "metadata": {},
   "outputs": [
    {
     "data": {
      "text/plain": [
       "[(1.0, 1, '1.52%'),\n",
       " (1.17, 1, '3.03%'),\n",
       " (3.33, 1, '4.55%'),\n",
       " (3.5, 2, '7.58%'),\n",
       " (3.67, 1, '9.09%'),\n",
       " (4.0, 7, '19.7%'),\n",
       " (4.17, 1, '21.21%'),\n",
       " (4.33, 1, '22.73%'),\n",
       " (4.5, 2, '25.76%'),\n",
       " (4.67, 1, '27.27%'),\n",
       " (5.0, 5, '34.85%'),\n",
       " (5.17, 2, '37.88%'),\n",
       " (5.33, 6, '46.97%'),\n",
       " (5.5, 3, '51.52%'),\n",
       " (5.67, 3, '56.06%'),\n",
       " (5.83, 4, '62.12%'),\n",
       " (6.0, 3, '66.67%'),\n",
       " (6.17, 5, '74.24%'),\n",
       " (6.33, 1, '75.76%'),\n",
       " (6.5, 2, '78.79%'),\n",
       " (6.67, 3, '83.33%'),\n",
       " (6.83, 3, '87.88%'),\n",
       " (7.0, 8, '100.0%')]"
      ]
     },
     "execution_count": 41,
     "metadata": {},
     "output_type": "execute_result"
    }
   ],
   "source": [
    "item"
   ]
  },
  {
   "cell_type": "code",
   "execution_count": 52,
   "metadata": {},
   "outputs": [
    {
     "data": {
      "text/plain": [
       "[(3.33, 1, '2.63%'),\n",
       " (3.5, 2, '7.89%'),\n",
       " (3.67, 1, '10.53%'),\n",
       " (4.0, 4, '21.05%'),\n",
       " (4.33, 1, '23.68%'),\n",
       " (4.67, 1, '26.32%'),\n",
       " (5.0, 3, '34.21%'),\n",
       " (5.17, 1, '36.84%'),\n",
       " (5.33, 4, '47.37%'),\n",
       " (5.5, 2, '52.63%'),\n",
       " (5.83, 2, '57.89%'),\n",
       " (6.0, 2, '63.16%'),\n",
       " (6.17, 4, '73.68%'),\n",
       " (6.5, 1, '76.32%'),\n",
       " (6.67, 1, '78.95%'),\n",
       " (6.83, 1, '81.58%'),\n",
       " (7.0, 7, '100.0%')]"
      ]
     },
     "execution_count": 52,
     "metadata": {},
     "output_type": "execute_result"
    }
   ],
   "source": [
    "a_item"
   ]
  },
  {
   "cell_type": "code",
   "execution_count": 42,
   "metadata": {},
   "outputs": [
    {
     "data": {
      "text/plain": [
       "array(['주변 IT 기기와의 호환성 (7-1번 질문으로 이동하십시오)', '성능', '기존 사용 브랜드이기 때문에',\n",
       "       '합리적인 가격', '디자인', '책을 읽기에 좋아서', '기존 사용제품의 고장, 임직원가족 할인 기회 '],\n",
       "      dtype=object)"
      ]
     },
     "execution_count": 42,
     "metadata": {},
     "output_type": "execute_result"
    }
   ],
   "source": [
    "df['purchase_reason'].unique()"
   ]
  },
  {
   "cell_type": "code",
   "execution_count": 43,
   "metadata": {},
   "outputs": [
    {
     "name": "stdout",
     "output_type": "stream",
     "text": [
      "주변 IT기기 0대를 가진 응답자: 18\n",
      "주변 IT기기 0대를 가진 응답자들의 브랜드 충성도 평균: 5.29\n",
      "\n",
      "주변 IT기기 1대를 가진 응답자: 13\n",
      "주변 IT기기 1대를 가진 응답자들의 브랜드 충성도 평균: 5.15\n",
      "\n",
      "주변 IT기기 2대를 가진 응답자: 15\n",
      "주변 IT기기 2대를 가진 응답자들의 브랜드 충성도 평균: 5.28\n",
      "\n",
      "주변 IT기기 3대를 가진 응답자: 13\n",
      "주변 IT기기 3대를 가진 응답자들의 브랜드 충성도 평균: 5.99\n",
      "\n",
      "주변 IT기기 4대를 가진 응답자: 4\n",
      "주변 IT기기 4대를 가진 응답자들의 브랜드 충성도 평균: 6.21\n",
      "\n",
      "주변 IT기기 5대를 가진 응답자: 2\n",
      "주변 IT기기 5대를 가진 응답자들의 브랜드 충성도 평균: 5.08\n",
      "\n"
     ]
    }
   ],
   "source": [
    "same_item_count = []\n",
    "same_item_person = []\n",
    "same_item_loyalty = []\n",
    "\n",
    "for i in range(6):\n",
    "    tmp = df[df['same_brand_item'] == i]\n",
    "    if i == 5:\n",
    "        tmp = tmp[:2]\n",
    "    same_item_count.append(i)\n",
    "    same_item_person.append(len(tmp))\n",
    "    same_item_loyalty.append(round(tmp.brand_loyalty.mean(), 2))\n",
    "    print(f\"주변 IT기기 {i}대를 가진 응답자: {len(tmp)}\")\n",
    "    print(f\"주변 IT기기 {i}대를 가진 응답자들의 브랜드 충성도 평균: {round(tmp.brand_loyalty.mean(), 2)}\")\n",
    "    print()"
   ]
  },
  {
   "cell_type": "code",
   "execution_count": 44,
   "metadata": {},
   "outputs": [
    {
     "data": {
      "image/png": "[encoded data removed]",
      "text/plain": [
       "<Figure size 432x288 with 1 Axes>"
      ]
     },
     "metadata": {},
     "output_type": "display_data"
    },
    {
     "name": "stdout",
     "output_type": "stream",
     "text": [
      "[18, 13, 15, 13, 4, 2]\n"
     ]
    }
   ],
   "source": [
    "plt.pie(same_item_person, labels=same_item_count, autopct='%.1f%%', counterclock=False)\n",
    "plt.show()\n",
    "print(same_item_person)"
   ]
  },
  {
   "cell_type": "code",
   "execution_count": 45,
   "metadata": {},
   "outputs": [
    {
     "data": {
      "text/plain": [
       "<matplotlib.lines.Line2D at 0x7fcec81c4c10>"
      ]
     },
     "execution_count": 45,
     "metadata": {},
     "output_type": "execute_result"
    },
    {
     "data": {
      "image/png": "[encoded data removed]",
      "text/plain": [
       "<Figure size 432x288 with 1 Axes>"
      ]
     },
     "metadata": {
      "needs_background": "light"
     },
     "output_type": "display_data"
    }
   ],
   "source": [
    "sns.lineplot(x=same_item_count, y=same_item_loyalty)\n",
    "plt.axhline(5.5, color='r', linestyle='--')"
   ]
  },
  {
   "cell_type": "code",
   "execution_count": 46,
   "metadata": {},
   "outputs": [],
   "source": [
    "from scipy.stats import kde\n",
    "import numpy as np"
   ]
  },
  {
   "cell_type": "code",
   "execution_count": 47,
   "metadata": {},
   "outputs": [
    {
     "data": {
      "image/png": "[encoded data removed]",
      "text/plain": [
       "<Figure size 432x288 with 1 Axes>"
      ]
     },
     "metadata": {
      "needs_background": "light"
     },
     "output_type": "display_data"
    }
   ],
   "source": [
    "each_loyalty_list = list(df['brand_loyalty'])\n",
    "density = kde.gaussian_kde(each_loyalty_list)\n",
    "x = np.linspace(1, 7, 100)\n",
    "y = density(x)\n",
    "\n",
    "plt.plot(x, y)\n",
    "plt.axvline(5.5, color='r', linestyle='--')\n",
    "plt.show()"
   ]
  },
  {
   "cell_type": "code",
   "execution_count": 48,
   "metadata": {},
   "outputs": [
    {
     "data": {
      "text/plain": [
       "[(1.0, 1, '1.52%'),\n",
       " (1.17, 1, '3.03%'),\n",
       " (3.33, 1, '4.55%'),\n",
       " (3.5, 2, '7.58%'),\n",
       " (3.67, 1, '9.09%'),\n",
       " (4.0, 7, '19.7%'),\n",
       " (4.17, 1, '21.21%'),\n",
       " (4.33, 1, '22.73%'),\n",
       " (4.5, 2, '25.76%'),\n",
       " (4.67, 1, '27.27%'),\n",
       " (5.0, 5, '34.85%'),\n",
       " (5.17, 2, '37.88%'),\n",
       " (5.33, 6, '46.97%'),\n",
       " (5.5, 3, '51.52%'),\n",
       " (5.67, 3, '56.06%'),\n",
       " (5.83, 4, '62.12%'),\n",
       " (6.0, 3, '66.67%'),\n",
       " (6.17, 5, '74.24%'),\n",
       " (6.33, 1, '75.76%'),\n",
       " (6.5, 2, '78.79%'),\n",
       " (6.67, 3, '83.33%'),\n",
       " (6.83, 3, '87.88%'),\n",
       " (7.0, 8, '100.0%')]"
      ]
     },
     "execution_count": 48,
     "metadata": {},
     "output_type": "execute_result"
    }
   ],
   "source": [
    "item"
   ]
  },
  {
   "cell_type": "code",
   "execution_count": null,
   "metadata": {},
   "outputs": [],
   "source": []
  }
 ],
 "metadata": {
  "kernelspec": {
   "display_name": "Python 3",
   "language": "python",
   "name": "python3"
  },
  "language_info": {
   "codemirror_mode": {
    "name": "ipython",
    "version": 3
   },
   "file_extension": ".py",
   "mimetype": "text/x-python",
   "name": "python",
   "nbconvert_exporter": "python",
   "pygments_lexer": "ipython3",
   "version": "3.8.2"
  }
 },
 "nbformat": 4,
 "nbformat_minor": 4
}
