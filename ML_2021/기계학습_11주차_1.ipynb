{
  "nbformat": 4,
  "nbformat_minor": 0,
  "metadata": {
    "colab": {
      "name": "기계학습_11주차_1.ipynb",
      "provenance": [],
      "authorship_tag": "ABX9TyOHOEgizfQx0rKYQU93noIS",
      "include_colab_link": true
    },
    "kernelspec": {
      "name": "python3",
      "display_name": "Python 3"
    },
    "language_info": {
      "name": "python"
    },
    "accelerator": "GPU"
  },
  "cells": [
    {
      "cell_type": "markdown",
      "metadata": {
        "id": "view-in-github",
        "colab_type": "text"
      },
      "source": [
        "<a href=\"https://colab.research.google.com/github/hansuho113/Machine_learning/blob/main/%EA%B8%B0%EA%B3%84%ED%95%99%EC%8A%B5_11%EC%A3%BC%EC%B0%A8_1.ipynb\" target=\"_parent\"><img src=\"https://colab.research.google.com/assets/colab-badge.svg\" alt=\"Open In Colab\"/></a>"
      ]
    },
    {
      "cell_type": "code",
      "metadata": {
        "id": "moR4WeBH4XFB"
      },
      "source": [
        "from sklearn.datasets import fetch_openml\n",
        "from sklearn.neural_network import MLPClassifier\n",
        "import matplotlib.pyplot as plt\n",
        "import numpy as np\n",
        "\n",
        "mnist = fetch_openml('mnist_784')\n",
        "mnist.data = mnist.data / 255.0\n",
        "X_train = mnist.data[:60000]\n",
        "X_test = mnist.data[60000:]\n",
        "y_train = np.int16(mnist.target[:60000])\n",
        "y_test = np.int16(mnist.target[60000:])"
      ],
      "execution_count": 1,
      "outputs": []
    },
    {
      "cell_type": "code",
      "metadata": {
        "colab": {
          "base_uri": "https://localhost:8080/"
        },
        "id": "PE5pMUgc5QxR",
        "outputId": "52669e49-cc2d-413b-ed3d-d1c06308c607"
      },
      "source": [
        "%matplotlib inline\n",
        "\n",
        "random_pick = np.random.randint(low=0, high=10000, size=10)\n",
        "random_pick"
      ],
      "execution_count": 2,
      "outputs": [
        {
          "output_type": "execute_result",
          "data": {
            "text/plain": [
              "array([4134, 6731, 4977, 8926, 5928, 3854,  903, 7745, 7103, 5003])"
            ]
          },
          "metadata": {
            "tags": []
          },
          "execution_count": 2
        }
      ]
    },
    {
      "cell_type": "code",
      "metadata": {
        "colab": {
          "base_uri": "https://localhost:8080/",
          "height": 332
        },
        "id": "JOdj_59t5eoa",
        "outputId": "10822649-dbea-4018-8996-2c7e5539a944"
      },
      "source": [
        "figure = plt.figure()\n",
        "figure.set_size_inches(12, 5)\n",
        "\n",
        "axes = []\n",
        "for i in range(1, 11):\n",
        "    axes.append(figure.add_subplot(2, 5, i))\n",
        "\n",
        "tmp_list = []\n",
        "for i in range(10):\n",
        "    tmp = mnist.data[60000 + random_pick[i]]\n",
        "    tmp = tmp.reshape(-1, 28)\n",
        "    tmp_list.append(tmp)\n",
        "\n",
        "print(y_test[random_pick])\n",
        "\n",
        "for i in range(10):\n",
        "    axes[i].matshow(tmp_list[i])"
      ],
      "execution_count": 3,
      "outputs": [
        {
          "output_type": "stream",
          "text": [
            "[9 7 1 7 6 7 6 8 3 8]\n"
          ],
          "name": "stdout"
        },
        {
          "output_type": "display_data",
          "data": {
            "image/png": "[encoded data removed]",
            "text/plain": [
              "<Figure size 864x360 with 10 Axes>"
            ]
          },
          "metadata": {
            "tags": [],
            "needs_background": "light"
          }
        }
      ]
    },
    {
      "cell_type": "code",
      "metadata": {
        "colab": {
          "base_uri": "https://localhost:8080/"
        },
        "id": "t1Ul8LRb5-SF",
        "outputId": "1480644a-5ce0-4e03-8b56-a69edda9f565"
      },
      "source": [
        "mlp = MLPClassifier(hidden_layer_sizes=(100),\n",
        "                    learning_rate_init=0.001,\n",
        "                    batch_size=512,\n",
        "                    max_iter=300,\n",
        "                    solver='adam',\n",
        "                    verbose=True)\n",
        "mlp.fit(X_train, y_train)\n",
        "\n",
        "res = mlp.predict(X_test)\n",
        "\n",
        "conf = np.zeros((10, 10))\n",
        "\n",
        "for i in range(len(res)):\n",
        "    conf[res[i]][y_test[i]] += 1\n",
        "print(conf)\n",
        "\n",
        "no_correct = 0\n",
        "for i in range(10):\n",
        "    no_correct += conf[i][i]\n",
        "acc = no_correct / len(res)\n",
        "\n",
        "print(f\"테스트 집합에 대한 정확률: {acc*100}%\")"
      ],
      "execution_count": 4,
      "outputs": [
        {
          "output_type": "stream",
          "text": [
            "Iteration 1, loss = 0.63768496\n",
            "Iteration 2, loss = 0.27397350\n",
            "Iteration 3, loss = 0.21375262\n",
            "Iteration 4, loss = 0.17689124\n",
            "Iteration 5, loss = 0.15151869\n",
            "Iteration 6, loss = 0.13239000\n",
            "Iteration 7, loss = 0.11725266\n",
            "Iteration 8, loss = 0.10465473\n",
            "Iteration 9, loss = 0.09475353\n",
            "Iteration 10, loss = 0.08655738\n",
            "Iteration 11, loss = 0.07937363\n",
            "Iteration 12, loss = 0.07281912\n",
            "Iteration 13, loss = 0.06761102\n",
            "Iteration 14, loss = 0.06233964\n",
            "Iteration 15, loss = 0.05773280\n",
            "Iteration 16, loss = 0.05411587\n",
            "Iteration 17, loss = 0.04982439\n",
            "Iteration 18, loss = 0.04642354\n",
            "Iteration 19, loss = 0.04324824\n",
            "Iteration 20, loss = 0.03992642\n",
            "Iteration 21, loss = 0.03782477\n",
            "Iteration 22, loss = 0.03490392\n",
            "Iteration 23, loss = 0.03245607\n",
            "Iteration 24, loss = 0.03048404\n",
            "Iteration 25, loss = 0.02813455\n",
            "Iteration 26, loss = 0.02715742\n",
            "Iteration 27, loss = 0.02467113\n",
            "Iteration 28, loss = 0.02329024\n",
            "Iteration 29, loss = 0.02188459\n",
            "Iteration 30, loss = 0.02004004\n",
            "Iteration 31, loss = 0.01890128\n",
            "Iteration 32, loss = 0.01730212\n",
            "Iteration 33, loss = 0.01636337\n",
            "Iteration 34, loss = 0.01520643\n",
            "Iteration 35, loss = 0.01434972\n",
            "Iteration 36, loss = 0.01305237\n",
            "Iteration 37, loss = 0.01215826\n",
            "Iteration 38, loss = 0.01168132\n",
            "Iteration 39, loss = 0.01105117\n",
            "Iteration 40, loss = 0.01013725\n",
            "Iteration 41, loss = 0.00954157\n",
            "Iteration 42, loss = 0.00903036\n",
            "Iteration 43, loss = 0.00818345\n",
            "Iteration 44, loss = 0.00753389\n",
            "Iteration 45, loss = 0.00712956\n",
            "Iteration 46, loss = 0.00680636\n",
            "Iteration 47, loss = 0.00620859\n",
            "Iteration 48, loss = 0.00595074\n",
            "Iteration 49, loss = 0.00546294\n",
            "Iteration 50, loss = 0.00488975\n",
            "Iteration 51, loss = 0.00475532\n",
            "Iteration 52, loss = 0.00433814\n",
            "Iteration 53, loss = 0.00418583\n",
            "Iteration 54, loss = 0.00398340\n",
            "Iteration 55, loss = 0.00362779\n",
            "Iteration 56, loss = 0.00354630\n",
            "Iteration 57, loss = 0.00315583\n",
            "Iteration 58, loss = 0.00295228\n",
            "Iteration 59, loss = 0.00279167\n",
            "Iteration 60, loss = 0.00268752\n",
            "Iteration 61, loss = 0.00254577\n",
            "Iteration 62, loss = 0.00233040\n",
            "Iteration 63, loss = 0.00221849\n",
            "Iteration 64, loss = 0.00210052\n",
            "Iteration 65, loss = 0.00193897\n",
            "Iteration 66, loss = 0.00180937\n",
            "Iteration 67, loss = 0.00176434\n",
            "Iteration 68, loss = 0.00182678\n",
            "Iteration 69, loss = 0.00159971\n",
            "Iteration 70, loss = 0.00158617\n",
            "Iteration 71, loss = 0.00138985\n",
            "Iteration 72, loss = 0.00133736\n",
            "Iteration 73, loss = 0.00125550\n",
            "Iteration 74, loss = 0.00128883\n",
            "Iteration 75, loss = 0.00118326\n",
            "Iteration 76, loss = 0.00110323\n",
            "Iteration 77, loss = 0.00108097\n",
            "Iteration 78, loss = 0.00099346\n",
            "Iteration 79, loss = 0.00094581\n",
            "Iteration 80, loss = 0.00089879\n",
            "Iteration 81, loss = 0.00086710\n",
            "Iteration 82, loss = 0.00083500\n",
            "Training loss did not improve more than tol=0.000100 for 10 consecutive epochs. Stopping.\n",
            "[[9.670e+02 0.000e+00 5.000e+00 0.000e+00 1.000e+00 3.000e+00 4.000e+00\n",
            "  1.000e+00 4.000e+00 2.000e+00]\n",
            " [0.000e+00 1.124e+03 2.000e+00 0.000e+00 1.000e+00 1.000e+00 2.000e+00\n",
            "  5.000e+00 0.000e+00 2.000e+00]\n",
            " [2.000e+00 3.000e+00 1.005e+03 6.000e+00 2.000e+00 1.000e+00 4.000e+00\n",
            "  8.000e+00 3.000e+00 0.000e+00]\n",
            " [0.000e+00 1.000e+00 1.000e+00 9.860e+02 0.000e+00 1.000e+01 1.000e+00\n",
            "  3.000e+00 6.000e+00 7.000e+00]\n",
            " [2.000e+00 0.000e+00 4.000e+00 1.000e+00 9.630e+02 3.000e+00 4.000e+00\n",
            "  1.000e+00 6.000e+00 8.000e+00]\n",
            " [0.000e+00 0.000e+00 0.000e+00 6.000e+00 1.000e+00 8.620e+02 4.000e+00\n",
            "  0.000e+00 4.000e+00 3.000e+00]\n",
            " [2.000e+00 2.000e+00 1.000e+00 0.000e+00 3.000e+00 4.000e+00 9.360e+02\n",
            "  0.000e+00 1.000e+00 0.000e+00]\n",
            " [2.000e+00 1.000e+00 7.000e+00 3.000e+00 0.000e+00 1.000e+00 1.000e+00\n",
            "  1.003e+03 3.000e+00 9.000e+00]\n",
            " [4.000e+00 4.000e+00 6.000e+00 2.000e+00 2.000e+00 5.000e+00 2.000e+00\n",
            "  1.000e+00 9.450e+02 4.000e+00]\n",
            " [1.000e+00 0.000e+00 1.000e+00 6.000e+00 9.000e+00 2.000e+00 0.000e+00\n",
            "  6.000e+00 2.000e+00 9.740e+02]]\n",
            "테스트 집합에 대한 정확률: 97.65%\n"
          ],
          "name": "stdout"
        }
      ]
    },
    {
      "cell_type": "code",
      "metadata": {
        "colab": {
          "base_uri": "https://localhost:8080/",
          "height": 232
        },
        "id": "Zk9N5Dhh6vm8",
        "outputId": "3a864277-f212-4499-9611-0d2c5d3f4729"
      },
      "source": [
        "from sklearn import datasets\n",
        "from sklearn.model_selection import train_test_split, validation_curve\n",
        "import time\n",
        "\n",
        "digit = datasets.load_digits()\n",
        "X_train, X_test, y_train, y_test = train_test_split(digit.data, digit.target, train_size=0.6)\n",
        "\n",
        "s = time.time()\n",
        "mlp = MLPClassifier(learning_rate_init=0.001,\n",
        "                    batch_size=32,\n",
        "                    max_iter=300,\n",
        "                    solver='sgd')\n",
        "\n",
        "prange = range(50, 1001, 50)\n",
        "\n",
        "train_score, tset_score = validation_curve(mlp, X_train, y_train,\n",
        "                                           param_name='hidden_layer_sizes',\n",
        "                                           param_range=prange,\n",
        "                                           cv=10,\n",
        "                                           scoring='accuracy',\n",
        "                                           n_jobs=4)\n",
        "e = time.time()\n"
      ],
      "execution_count": 10,
      "outputs": [
        {
          "output_type": "error",
          "ename": "NameError",
          "evalue": "ignored",
          "traceback": [
            "\u001b[0;31m---------------------------------------------------------------------------\u001b[0m",
            "\u001b[0;31mNameError\u001b[0m                                 Traceback (most recent call last)",
            "\u001b[0;32m<ipython-input-10-d840bff9eca1>\u001b[0m in \u001b[0;36m<module>\u001b[0;34m()\u001b[0m\n\u001b[1;32m     23\u001b[0m \u001b[0mtrain_mean\u001b[0m \u001b[0;34m=\u001b[0m \u001b[0mnp\u001b[0m\u001b[0;34m.\u001b[0m\u001b[0mmean\u001b[0m\u001b[0;34m(\u001b[0m\u001b[0mtrain_score\u001b[0m\u001b[0;34m,\u001b[0m \u001b[0maxis\u001b[0m\u001b[0;34m=\u001b[0m\u001b[0;36m1\u001b[0m\u001b[0;34m)\u001b[0m\u001b[0;34m\u001b[0m\u001b[0;34m\u001b[0m\u001b[0m\n\u001b[1;32m     24\u001b[0m \u001b[0mtrain_std\u001b[0m \u001b[0;34m=\u001b[0m \u001b[0mnp\u001b[0m\u001b[0;34m.\u001b[0m\u001b[0mstd\u001b[0m\u001b[0;34m(\u001b[0m\u001b[0mtrain_score\u001b[0m\u001b[0;34m,\u001b[0m \u001b[0maxis\u001b[0m\u001b[0;34m=\u001b[0m\u001b[0;36m1\u001b[0m\u001b[0;34m)\u001b[0m\u001b[0;34m\u001b[0m\u001b[0;34m\u001b[0m\u001b[0m\n\u001b[0;32m---> 25\u001b[0;31m \u001b[0mtest_mean\u001b[0m \u001b[0;34m=\u001b[0m \u001b[0mnp\u001b[0m\u001b[0;34m.\u001b[0m\u001b[0mmean\u001b[0m\u001b[0;34m(\u001b[0m\u001b[0mtest_score\u001b[0m\u001b[0;34m,\u001b[0m \u001b[0maxis\u001b[0m\u001b[0;34m=\u001b[0m\u001b[0;36m1\u001b[0m\u001b[0;34m)\u001b[0m\u001b[0;34m\u001b[0m\u001b[0;34m\u001b[0m\u001b[0m\n\u001b[0m\u001b[1;32m     26\u001b[0m \u001b[0mtest_std\u001b[0m \u001b[0;34m=\u001b[0m \u001b[0mnp\u001b[0m\u001b[0;34m.\u001b[0m\u001b[0mstd\u001b[0m\u001b[0;34m(\u001b[0m\u001b[0mtest_score\u001b[0m\u001b[0;34m,\u001b[0m \u001b[0maxis\u001b[0m\u001b[0;34m=\u001b[0m\u001b[0;36m1\u001b[0m\u001b[0;34m)\u001b[0m\u001b[0;34m\u001b[0m\u001b[0;34m\u001b[0m\u001b[0m\n\u001b[1;32m     27\u001b[0m \u001b[0;34m\u001b[0m\u001b[0m\n",
            "\u001b[0;31mNameError\u001b[0m: name 'test_score' is not defined"
          ]
        }
      ]
    },
    {
      "cell_type": "code",
      "metadata": {
        "colab": {
          "base_uri": "https://localhost:8080/",
          "height": 312
        },
        "id": "A8cUZGWyBjTK",
        "outputId": "a558e9be-f5f2-44a8-835d-b8bc6433a872"
      },
      "source": [
        "train_mean = np.mean(train_score, axis=1)\n",
        "train_std = np.std(train_score, axis=1)\n",
        "test_mean = np.mean(tset_score, axis=1)\n",
        "test_std = np.std(tset_score, axis=1)\n",
        "\n",
        "plt.plot(prange, train_mean, label='Train score', color='r')\n",
        "plt.plot(prange, test_mean, label='Test score', color='b')\n",
        "plt.fill_between(prange, train_mean-train_std, train_mean+train_std, alpha=0.2, color='r')\n",
        "plt.fill_between(prange, test_mean-test_std, test_mean+test_std, alpha=0.2, color='r')\n",
        "plt.legend(loc='best')\n",
        "plt.title(\"Validation Curve with MLP\")\n",
        "plt.xlabel('Number of hidden nodes')\n",
        "plt.ylabel(\"Accuracy\")\n",
        "plt.ylim(0.9, 1.01)\n",
        "plt.grid(axis='both')\n",
        "plt.show()\n",
        "\n",
        "print(e-s)"
      ],
      "execution_count": 14,
      "outputs": [
        {
          "output_type": "display_data",
          "data": {
            "image/png": "[encoded data removed]",
            "text/plain": [
              "<Figure size 432x288 with 1 Axes>"
            ]
          },
          "metadata": {
            "tags": [],
            "needs_background": "light"
          }
        },
        {
          "output_type": "stream",
          "text": [
            "584.5968902111053\n"
          ],
          "name": "stdout"
        }
      ]
    },
    {
      "cell_type": "code",
      "metadata": {
        "colab": {
          "base_uri": "https://localhost:8080/"
        },
        "id": "fld6KLw69yn6",
        "outputId": "69e4232e-9aba-473b-bba1-a2778d8f0d18"
      },
      "source": [
        "best_number_nodes = prange[np.argmax(test_mean)]\n",
        "print(f\"최적의 은닉층 노드 개수는 {best_number_nodes} 개입니다.\")\n",
        "\n",
        "mlp = MLPClassifier(hidden_layer_sizes=(best_number_nodes),\n",
        "                    learning_rate_init=0.001,\n",
        "                    batch_size=512,\n",
        "                    max_iter=300,\n",
        "                    solver='adam',\n",
        "                    verbose=True)\n",
        "mlp.fit(X_train, y_train)\n",
        "\n",
        "res = mlp.predict(X_test)\n",
        "\n",
        "conf = np.zeros((10, 10))\n",
        "for i in range(len(res)):\n",
        "    conf[res[i]][y_test[i]] += 1\n",
        "print(conf)\n",
        "\n",
        "no_correct = 0\n",
        "for i in range(10):\n",
        "    no_correct += conf[i][i]\n",
        "acc = no_correct / len(res)\n",
        "\n",
        "print(f\"테스트 집합의 정확률은: {acc*100} %\")"
      ],
      "execution_count": 16,
      "outputs": [
        {
          "output_type": "stream",
          "text": [
            "최적의 은닉층 노드 개수는 950 개입니다.\n",
            "Iteration 1, loss = 3.84611569\n",
            "Iteration 2, loss = 1.68009334\n",
            "Iteration 3, loss = 0.59994526\n",
            "Iteration 4, loss = 0.46396897\n",
            "Iteration 5, loss = 0.24844848\n",
            "Iteration 6, loss = 0.20826798\n",
            "Iteration 7, loss = 0.16516009\n",
            "Iteration 8, loss = 0.13090231\n",
            "Iteration 9, loss = 0.11300416\n",
            "Iteration 10, loss = 0.11569549\n",
            "Iteration 11, loss = 0.09113214\n",
            "Iteration 12, loss = 0.07799572\n",
            "Iteration 13, loss = 0.07038498\n",
            "Iteration 14, loss = 0.05849119\n",
            "Iteration 15, loss = 0.05776092\n",
            "Iteration 16, loss = 0.04745237\n",
            "Iteration 17, loss = 0.04662515\n",
            "Iteration 18, loss = 0.05029488\n",
            "Iteration 19, loss = 0.03908616\n",
            "Iteration 20, loss = 0.03512042\n",
            "Iteration 21, loss = 0.03075815\n",
            "Iteration 22, loss = 0.02753643\n",
            "Iteration 23, loss = 0.02733318\n",
            "Iteration 24, loss = 0.02407618\n",
            "Iteration 25, loss = 0.02276314\n",
            "Iteration 26, loss = 0.02147697\n",
            "Iteration 27, loss = 0.02066200\n",
            "Iteration 28, loss = 0.01942444\n",
            "Iteration 29, loss = 0.01841658\n",
            "Iteration 30, loss = 0.01738080\n",
            "Iteration 31, loss = 0.01647982\n",
            "Iteration 32, loss = 0.01630477\n",
            "Iteration 33, loss = 0.01524154\n",
            "Iteration 34, loss = 0.01418101\n",
            "Iteration 35, loss = 0.01349452\n",
            "Iteration 36, loss = 0.01323327\n",
            "Iteration 37, loss = 0.01309783\n",
            "Iteration 38, loss = 0.01267089\n",
            "Iteration 39, loss = 0.01233375\n",
            "Iteration 40, loss = 0.01177117\n",
            "Iteration 41, loss = 0.01130657\n",
            "Iteration 42, loss = 0.01085004\n",
            "Iteration 43, loss = 0.01026115\n",
            "Iteration 44, loss = 0.00987913\n",
            "Iteration 45, loss = 0.00928692\n",
            "Iteration 46, loss = 0.00901724\n",
            "Iteration 47, loss = 0.00910047\n",
            "Iteration 48, loss = 0.00846938\n",
            "Iteration 49, loss = 0.00805853\n",
            "Iteration 50, loss = 0.00779035\n",
            "Iteration 51, loss = 0.00770159\n",
            "Iteration 52, loss = 0.00728905\n",
            "Iteration 53, loss = 0.00721749\n",
            "Iteration 54, loss = 0.00718450\n",
            "Iteration 55, loss = 0.00686565\n",
            "Iteration 56, loss = 0.00680009\n",
            "Iteration 57, loss = 0.00632384\n",
            "Iteration 58, loss = 0.00613495\n",
            "Iteration 59, loss = 0.00616696\n",
            "Iteration 60, loss = 0.00583622\n",
            "Iteration 61, loss = 0.00552171\n",
            "Iteration 62, loss = 0.00547640\n",
            "Iteration 63, loss = 0.00532443\n",
            "Iteration 64, loss = 0.00511018\n",
            "Iteration 65, loss = 0.00499880\n",
            "Iteration 66, loss = 0.00477377\n",
            "Iteration 67, loss = 0.00462728\n",
            "Iteration 68, loss = 0.00456995\n",
            "Iteration 69, loss = 0.00446727\n",
            "Iteration 70, loss = 0.00429310\n",
            "Iteration 71, loss = 0.00423607\n",
            "Iteration 72, loss = 0.00409380\n",
            "Iteration 73, loss = 0.00430847\n",
            "Iteration 74, loss = 0.00427565\n",
            "Iteration 75, loss = 0.00436470\n",
            "Iteration 76, loss = 0.00434826\n",
            "Iteration 77, loss = 0.00396807\n",
            "Iteration 78, loss = 0.00362881\n",
            "Iteration 79, loss = 0.00354347\n",
            "Iteration 80, loss = 0.00350106\n",
            "Iteration 81, loss = 0.00336464\n",
            "Iteration 82, loss = 0.00320713\n",
            "Iteration 83, loss = 0.00311522\n",
            "Iteration 84, loss = 0.00309582\n",
            "Iteration 85, loss = 0.00304374\n",
            "Iteration 86, loss = 0.00293709\n",
            "Iteration 87, loss = 0.00284222\n",
            "Iteration 88, loss = 0.00286251\n",
            "Iteration 89, loss = 0.00283933\n",
            "Iteration 90, loss = 0.00272986\n",
            "Iteration 91, loss = 0.00260286\n",
            "Iteration 92, loss = 0.00252929\n",
            "Iteration 93, loss = 0.00249603\n",
            "Iteration 94, loss = 0.00246938\n",
            "Iteration 95, loss = 0.00248378\n",
            "Iteration 96, loss = 0.00242814\n",
            "Iteration 97, loss = 0.00231625\n",
            "Iteration 98, loss = 0.00223437\n",
            "Iteration 99, loss = 0.00219839\n",
            "Iteration 100, loss = 0.00213584\n",
            "Iteration 101, loss = 0.00209423\n",
            "Iteration 102, loss = 0.00207978\n",
            "Iteration 103, loss = 0.00201350\n",
            "Iteration 104, loss = 0.00196987\n",
            "Iteration 105, loss = 0.00192387\n",
            "Iteration 106, loss = 0.00187146\n",
            "Iteration 107, loss = 0.00183122\n",
            "Iteration 108, loss = 0.00179400\n",
            "Training loss did not improve more than tol=0.000100 for 10 consecutive epochs. Stopping.\n",
            "[[70.  0.  0.  0.  0.  0.  0.  0.  0.  0.]\n",
            " [ 0. 77.  0.  0.  0.  0.  0.  0.  2.  0.]\n",
            " [ 0.  0. 71.  0.  0.  0.  0.  0.  0.  0.]\n",
            " [ 0.  0.  0. 79.  0.  0.  0.  0.  0.  0.]\n",
            " [ 0.  0.  0.  0. 68.  0.  0.  0.  0.  0.]\n",
            " [ 0.  0.  0.  1.  0. 70.  2.  0.  3.  0.]\n",
            " [ 0.  0.  0.  0.  0.  0. 73.  0.  0.  0.]\n",
            " [ 0.  0.  0.  0.  0.  0.  0. 76.  0.  1.]\n",
            " [ 0.  1.  0.  1.  0.  0.  1.  0. 50.  0.]\n",
            " [ 0.  0.  0.  1.  0.  0.  0.  1.  0. 71.]]\n",
            "테스트 집합의 정확률은: 98.0528511821975 %\n"
          ],
          "name": "stdout"
        }
      ]
    },
    {
      "cell_type": "code",
      "metadata": {
        "id": "KTeq-pfP_dPn"
      },
      "source": [
        ""
      ],
      "execution_count": null,
      "outputs": []
    }
  ]
}