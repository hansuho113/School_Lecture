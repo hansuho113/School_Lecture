{
 "cells": [
  {
   "cell_type": "markdown",
   "metadata": {},
   "source": [
    "# 2.2  일반화, 과대적합, 과소적합\n",
    "\n",
    "### 지도학습 : 입력과 출력 샘플 데이터가 있고, 주어진 입력으로부터 출력을 예측하고자 할 때 사용\n",
    "\n",
    "지도학습\n",
    "- 분류(Classification)\n",
    "    - 이진분류(binary classification)\n",
    "      * 양성(positive)/음성(negative) 클래스로 분류되는데 이 때 양성은 장점, 좋은 것 따위가 아니라 학습하고자 하는 대상임\n",
    "    - 다중분류(multiclass classification)\n",
    "- 회귀(regression) : 연속적인 숫자, 또는 부동소수점수(실수)를 예측하는 것\n",
    "\n",
    "분류와 회귀의 구분은 출력 값에 연속성이 있는지의 여부에 따라"
   ]
  },
  {
   "cell_type": "code",
   "execution_count": null,
   "metadata": {},
   "outputs": [],
   "source": []
  }
 ],
 "metadata": {
  "kernelspec": {
   "display_name": "Python 3",
   "language": "python",
   "name": "python3"
  },
  "language_info": {
   "codemirror_mode": {
    "name": "ipython",
    "version": 3
   },
   "file_extension": ".py",
   "mimetype": "text/x-python",
   "name": "python",
   "nbconvert_exporter": "python",
   "pygments_lexer": "ipython3",
   "version": "3.7.0"
  }
 },
 "nbformat": 4,
 "nbformat_minor": 2
}
